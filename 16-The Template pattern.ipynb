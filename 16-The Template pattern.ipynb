{
 "cells": [
  {
   "cell_type": "markdown",
   "id": "c8416667",
   "metadata": {},
   "source": [
    "## The Template pattern\n",
    "\n",
    "(sometimes called the Template method) is useful\n",
    "for removing duplicate code; it's intended to support the Don't Repeat\n",
    "Yourself principle. It is designed for situations where we have several different tasks to\n",
    "accomplish that have some, but not all, steps in common. The common steps are\n",
    "implemented in a base class, and the distinct steps are overridden in subclasses to\n",
    "provide custom behavior.\n",
    "\n",
    "![](uml/template_pattern.png)\n",
    "\n",
    "### A Template example\n",
    "We can use the Template pattern to put the common\n",
    "steps in a base class, and the varying steps in two subclasses."
   ]
  },
  {
   "cell_type": "code",
   "execution_count": 1,
   "id": "c3d5228e",
   "metadata": {},
   "outputs": [],
   "source": [
    "import contextlib\n",
    "import csv\n",
    "from pathlib import Path\n",
    "import sqlite3\n",
    "from typing import ContextManager, TextIO, cast, Optional\n",
    "import sys\n",
    "\n",
    "\n",
    "def test_setup(db_name: str = \"sales.db\") -> None:\n",
    "    conn = sqlite3.connect(db_name)\n",
    "\n",
    "    conn.execute(\n",
    "        \"\"\"\n",
    "        CREATE TABLE IF NOT EXISTS Sales (\n",
    "            salesperson text,\n",
    "            amt currency,\n",
    "            year integer,\n",
    "            model text,\n",
    "            new boolean\n",
    "        )\n",
    "        \"\"\"\n",
    "    )\n",
    "\n",
    "    conn.execute(\n",
    "        \"\"\"\n",
    "        DELETE FROM Sales\n",
    "        \"\"\"\n",
    "    )\n",
    "\n",
    "    conn.execute(\n",
    "        \"\"\"\n",
    "        INSERT INTO Sales \n",
    "        VALUES('Tim', 16000, 2010, 'Honda Fit', 'true')\n",
    "        \"\"\"\n",
    "    )\n",
    "    conn.execute(\n",
    "        \"\"\"\n",
    "        INSERT INTO Sales \n",
    "        VALUES('Tim', 9000, 2006, 'Ford Focus', 'false')\n",
    "        \"\"\"\n",
    "    )\n",
    "    conn.execute(\n",
    "        \"\"\"\n",
    "        INSERT INTO Sales \n",
    "        VALUES('Hannah', 8000, 2004, 'Dodge Neon', 'false')\n",
    "        \"\"\"\n",
    "    )\n",
    "    conn.execute(\n",
    "        \"\"\"\n",
    "        INSERT INTO Sales \n",
    "        VALUES('Hannah', 28000, 2009, 'Ford Mustang', 'true')\n",
    "        \"\"\"\n",
    "    )\n",
    "    conn.execute(\n",
    "        \"\"\"\n",
    "        INSERT INTO Sales \n",
    "        VALUES('Hannah', 50000, 2010, 'Lincoln Navigator', 'true')\n",
    "        \"\"\"\n",
    "    )\n",
    "    conn.execute(\n",
    "        \"\"\"\n",
    "        INSERT INTO Sales \n",
    "        VALUES('Jason', 20000, 2008, 'Toyota Prius', 'false')\n",
    "        \"\"\"\n",
    "    )\n",
    "    conn.commit()\n",
    "    conn.close()\n",
    "    \n",
    "test_setup()"
   ]
  },
  {
   "cell_type": "code",
   "execution_count": 2,
   "id": "85e27154",
   "metadata": {},
   "outputs": [],
   "source": [
    "import abc\n",
    "\n",
    "class QueryTemplate(abc.ABC):\n",
    "    def __init__(self, db_name: str = \"sales.db\") -> None:\n",
    "        self.db_name = db_name\n",
    "        self.conn: sqlite3.Connection\n",
    "        self.results: list[tuple[str, ...]]\n",
    "        self.query: str\n",
    "        self.header: list[str]\n",
    "        \n",
    "    def connect(self) -> None:\n",
    "        self.conn = sqlite3.connect(self.db_name)\n",
    "    \n",
    "    @abc.abstractmethod\n",
    "    def construct_query(self) -> None: ...\n",
    "        \n",
    "    def do_query(self) -> None:\n",
    "        results = self.conn.execute(self.query)\n",
    "        self.results = results.fetchall()\n",
    "        self.conn.close()\n",
    "    \n",
    "    def output_context(self) -> ContextManager[TextIO]:\n",
    "        self.target_file = sys.stdout\n",
    "        return cast(ContextManager[TextIO], contextlib.nullcontext())\n",
    "            \n",
    "    def output_results(self) -> None:\n",
    "        writer = csv.writer(self.target_file)\n",
    "        writer.writerow(self.header)\n",
    "        writer.writerows(self.results)\n",
    "        \n",
    "    def process_format(self) -> None:\n",
    "        self.connect()\n",
    "        self.construct_query()\n",
    "        self.do_query()\n",
    "        with self.output_context():\n",
    "            self.output_results()\n"
   ]
  },
  {
   "cell_type": "code",
   "execution_count": 3,
   "id": "663e88d4",
   "metadata": {},
   "outputs": [
    {
     "name": "stdout",
     "output_type": "stream",
     "text": [
      "salesperson,amt,year,model,new\r\n",
      "Tim,16000,2010,Honda Fit,true\r\n",
      "Hannah,28000,2009,Ford Mustang,true\r\n",
      "Hannah,50000,2010,Lincoln Navigator,true\r\n"
     ]
    }
   ],
   "source": [
    "class NewVehicleQuery(QueryTemplate):\n",
    "    def construct_query(self) -> None: \n",
    "        self.query = \"\"\"\n",
    "            SELECT * FROM Sales WHERE new='true'\n",
    "        \"\"\"\n",
    "        self.header = [\"salesperson\", \"amt\", \"year\", \"model\", \"new\"]\n",
    "        \n",
    "task_1 = NewVehicleQuery()\n",
    "task_1.process_format()"
   ]
  },
  {
   "cell_type": "code",
   "execution_count": 4,
   "id": "9b898044",
   "metadata": {},
   "outputs": [
    {
     "name": "stdout",
     "output_type": "stream",
     "text": [
      "salesperson,total sales\n",
      "Hannah,86000\n",
      "Jason,20000\n",
      "Tim,25000\n",
      "\n"
     ]
    }
   ],
   "source": [
    "class SelesGrossQuery(QueryTemplate):\n",
    "    def construct_query(self) -> None:\n",
    "        self.query = \"\"\"\n",
    "            SELECT salesperson, sum(amt) FROM Sales GROUP BY salesperson\n",
    "        \"\"\"\n",
    "        self.header = [\"salesperson\", \"total sales\"]\n",
    "        \n",
    "    def output_context(self) -> ContextManager[TextIO]:\n",
    "        filepath = Path(f\"gross_sales.csv\")\n",
    "        self.target_file = filepath.open(\"w\")\n",
    "        return self.target_file\n",
    "    \n",
    "task2 = SelesGrossQuery()\n",
    "task2.process_format()\n",
    "\n",
    "with open(\"gross_sales.csv\") as file:\n",
    "    print(file.read())"
   ]
  },
  {
   "cell_type": "code",
   "execution_count": 5,
   "id": "1c770e03",
   "metadata": {
    "scrolled": false
   },
   "outputs": [
    {
     "name": "stderr",
     "output_type": "stream",
     "text": [
      "[NbConvertApp] Converting notebook 16-The Template pattern.ipynb to script\n",
      "[NbConvertApp] Writing 4469 bytes to test.py\n"
     ]
    },
    {
     "name": "stdout",
     "output_type": "stream",
     "text": [
      "\u001b[1m\u001b[32mSuccess: no issues found in 1 source file\u001b[m\n",
      "\n"
     ]
    }
   ],
   "source": [
    "if __name__ == '__main__':        \n",
    "    import doctest\n",
    "    import subprocess\n",
    "    name = \"16-The Template pattern\"\n",
    "    doctest.testmod(verbose=False)\n",
    "    subprocess.run(f'jupyter nbconvert --to script --output test \"{name}\"', shell=True)\n",
    "    std_out = subprocess.run('mypy --strict test.py', capture_output=True, shell=True).stdout\n",
    "    print(std_out.decode('ascii'))"
   ]
  },
  {
   "cell_type": "code",
   "execution_count": null,
   "id": "4014430e",
   "metadata": {},
   "outputs": [],
   "source": []
  }
 ],
 "metadata": {
  "kernelspec": {
   "display_name": "Python 3 (ipykernel)",
   "language": "python",
   "name": "python3"
  },
  "language_info": {
   "codemirror_mode": {
    "name": "ipython",
    "version": 3
   },
   "file_extension": ".py",
   "mimetype": "text/x-python",
   "name": "python",
   "nbconvert_exporter": "python",
   "pygments_lexer": "ipython3",
   "version": "3.11.5"
  }
 },
 "nbformat": 4,
 "nbformat_minor": 5
}
