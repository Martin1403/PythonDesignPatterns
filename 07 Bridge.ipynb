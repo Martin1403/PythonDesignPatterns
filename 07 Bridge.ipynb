{
 "cells": [
  {
   "cell_type": "markdown",
   "id": "8c99239a",
   "metadata": {},
   "source": [
    "## Bridge\n",
    "\n",
    "A mechanism that decouples an interface (hierarchy)\n",
    "from an implementation (hierarchy)"
   ]
  },
  {
   "cell_type": "code",
   "execution_count": 3,
   "id": "da4efea2",
   "metadata": {},
   "outputs": [
    {
     "name": "stdout",
     "output_type": "stream",
     "text": [
      "Drawing pixels for a circle of radius 5\n",
      "Drawing pixels for a circle of radius 10\n"
     ]
    }
   ],
   "source": [
    "from abc import ABC\n",
    "\n",
    "\n",
    "class Renderer(ABC):\n",
    "    def render_circle(self, radius):\n",
    "        pass\n",
    "\n",
    "    \n",
    "class VecterRenderer(Renderer):\n",
    "    def render_circle(self, radius):\n",
    "        print(f\"Drawing a circle of radius {radius}\")\n",
    "    \n",
    "    \n",
    "class RasterRenderer(Renderer):\n",
    "    def render_circle(self, radius):\n",
    "        print(f\"Drawing pixels for a circle of radius {radius}\")\n",
    "    \n",
    "    \n",
    "class Shape:\n",
    "    def __init__(self, renderer):\n",
    "        self.renderer = renderer\n",
    "        \n",
    "    def draw(self): pass\n",
    "    def resize(self, factor): pass\n",
    "    \n",
    "    \n",
    "class Circle(Shape):\n",
    "    def __init__(self, renderer, radius):\n",
    "        super().__init__(renderer)\n",
    "        self.radius = radius\n",
    "        \n",
    "    def draw(self):\n",
    "        self.renderer.render_circle(self.radius)\n",
    "        \n",
    "    def resize(self, factor):\n",
    "        self.radius *= factor\n",
    "        \n",
    "    \n",
    "raster = RasterRenderer()\n",
    "vector = VecterRenderer()\n",
    "\n",
    "circle = Circle(raster, 5)\n",
    "circle.draw()\n",
    "circle.resize(2)\n",
    "circle.draw()"
   ]
  },
  {
   "cell_type": "code",
   "execution_count": null,
   "id": "c488dfdb",
   "metadata": {},
   "outputs": [],
   "source": []
  },
  {
   "cell_type": "code",
   "execution_count": null,
   "id": "e28fdd40",
   "metadata": {},
   "outputs": [],
   "source": []
  }
 ],
 "metadata": {
  "kernelspec": {
   "display_name": "Python 3 (ipykernel)",
   "language": "python",
   "name": "python3"
  },
  "language_info": {
   "codemirror_mode": {
    "name": "ipython",
    "version": 3
   },
   "file_extension": ".py",
   "mimetype": "text/x-python",
   "name": "python",
   "nbconvert_exporter": "python",
   "pygments_lexer": "ipython3",
   "version": "3.11.4"
  }
 },
 "nbformat": 4,
 "nbformat_minor": 5
}
