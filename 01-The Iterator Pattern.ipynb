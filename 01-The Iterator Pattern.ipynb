{
 "cells": [
  {
   "cell_type": "markdown",
   "id": "5c609ff4",
   "metadata": {},
   "source": [
    "## The Iterator Pattern\n",
    "\n",
    "### The iterator protocol\n",
    "To be **Iterable** means implementing an `__iter__()` method; this\n",
    "method creates an Iterator object. \n",
    "\n",
    "An **Iterator** class must define a `__next__()` method that\n",
    "the for statement (and other features that support iteration) can call to get a new\n",
    "element from the sequence. In addition, every Iterator class must also fulfill\n",
    "the Iterable interface. This means an Iterator will also provide an `__iter__()`\n",
    "method.\n",
    "\n",
    "\n",
    "![](uml/iterator_protocol.png)"
   ]
  },
  {
   "cell_type": "code",
   "execution_count": 1,
   "id": "4c8cf27c",
   "metadata": {},
   "outputs": [
    {
     "name": "stdout",
     "output_type": "stream",
     "text": [
      "frozenset({'__iter__'})\n",
      "frozenset({'__next__'})\n"
     ]
    }
   ],
   "source": [
    "from collections.abc import Iterator, Iterable\n",
    "\n",
    "print(Iterable.__abstractmethods__)\n",
    "print(Iterator.__abstractmethods__)"
   ]
  },
  {
   "cell_type": "code",
   "execution_count": 2,
   "id": "a552f6da",
   "metadata": {},
   "outputs": [
    {
     "name": "stdout",
     "output_type": "stream",
     "text": [
      "['The', 'Quick', 'Brown', 'Fox', 'Jumps', 'Over', 'The', 'Lazy', 'Dog']\n",
      "['The', 'Quick', 'Brown', 'Fox', 'Jumps', 'Over', 'The', 'Lazy', 'Dog']\n",
      "\n",
      "['The', 'Quick', 'Brown', 'Fox', 'Jumps', 'Over', 'The', 'Lazy', 'Dog']\n",
      "[]\n",
      "\n"
     ]
    }
   ],
   "source": [
    "from typing import Iterable, Iterator\n",
    "\n",
    "class CapitalIterable(Iterable[str]):\n",
    "    def __init__(self, string: str) -> None:\n",
    "        self.string = string\n",
    "        \n",
    "    def __iter__(self) -> Iterator[str]:\n",
    "        return CapitalIterator(self.string)\n",
    "    \n",
    "    \n",
    "class CapitalIterator(Iterator[str]):\n",
    "    def __init__(self, string: str) -> None:\n",
    "        self.words = [w.capitalize() for w in string.split()]\n",
    "        self.index = 0\n",
    "        \n",
    "    def __next__(self) -> str:\n",
    "        if self.index == len(self.words):\n",
    "            raise StopIteration\n",
    "        word = self.words[self.index]\n",
    "        self.index += 1\n",
    "        return word\n",
    "        \n",
    "                \n",
    "sentence = \"the quick brown fox jumps over the lazy dog\"\n",
    "iterable = CapitalIterable(sentence)\n",
    "iterator = iter(iterable)\n",
    "\n",
    "print(list(iterable))\n",
    "print(list(iterable))\n",
    "print()\n",
    "print(list(iterator))        \n",
    "print(list(iterator))        \n",
    "print()"
   ]
  },
  {
   "cell_type": "markdown",
   "id": "f616c314",
   "metadata": {},
   "source": [
    "**Note**:\n",
    "- Iterable \n",
    "is an object with elements that can be iterated over multiple times.\n",
    "- Iterator\n",
    "is an object that represents specific location in that iterable when it is consumed it has to be instantieted again."
   ]
  },
  {
   "cell_type": "code",
   "execution_count": 3,
   "id": "c718c0e0",
   "metadata": {},
   "outputs": [
    {
     "name": "stderr",
     "output_type": "stream",
     "text": [
      "[NbConvertApp] Converting notebook 01-The Iterator Pattern.ipynb to script\n",
      "[NbConvertApp] Writing 2218 bytes to test.py\n"
     ]
    },
    {
     "name": "stdout",
     "output_type": "stream",
     "text": [
      "\u001b[1m\u001b[32mSuccess: no issues found in 1 source file\u001b[m\n",
      "\n"
     ]
    }
   ],
   "source": [
    "if __name__ == '__main__':        \n",
    "    import doctest\n",
    "    import subprocess\n",
    "    name = '01-The Iterator Pattern'\n",
    "    doctest.testmod(verbose=False)\n",
    "    subprocess.run(f'jupyter nbconvert --to script --output test \"{name}\"', shell=True)\n",
    "    std_out = subprocess.run('mypy --strict test.py', capture_output=True, shell=True).stdout\n",
    "    print(std_out.decode('ascii'))"
   ]
  },
  {
   "cell_type": "code",
   "execution_count": null,
   "id": "6fc242ce",
   "metadata": {},
   "outputs": [],
   "source": []
  }
 ],
 "metadata": {
  "kernelspec": {
   "display_name": "Python 3 (ipykernel)",
   "language": "python",
   "name": "python3"
  },
  "language_info": {
   "codemirror_mode": {
    "name": "ipython",
    "version": 3
   },
   "file_extension": ".py",
   "mimetype": "text/x-python",
   "name": "python",
   "nbconvert_exporter": "python",
   "pygments_lexer": "ipython3",
   "version": "3.11.4"
  }
 },
 "nbformat": 4,
 "nbformat_minor": 5
}
