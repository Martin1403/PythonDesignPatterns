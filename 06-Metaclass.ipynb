{
 "cells": [
  {
   "cell_type": "markdown",
   "id": "d67bc408",
   "metadata": {},
   "source": [
    "## Metaclasses\n",
    "\n",
    "To create metaclass we need to inherit from type or any child class which is inherited from type. Metaclass is used to build any class in python. \n",
    "\n",
    "![](uml/metaclass.png)\n",
    "\n",
    "### Example metaclass\n",
    "In this example we will create a metaclass from abc.ABCMeta, which inherits from type. Will will than decorate every `roll()` method in child class inherited from interface which uses this metaclass."
   ]
  },
  {
   "cell_type": "code",
   "execution_count": 10,
   "id": "054c681f",
   "metadata": {},
   "outputs": [
    {
     "name": "stdout",
     "output_type": "stream",
     "text": [
      "(<class 'abc.ABCMeta'>, <class 'type'>, <class 'object'>)\n"
     ]
    }
   ],
   "source": [
    "import abc\n",
    "\n",
    "print(abc.ABCMeta.__mro__)"
   ]
  },
  {
   "cell_type": "code",
   "execution_count": 12,
   "id": "78eb3b38",
   "metadata": {},
   "outputs": [
    {
     "name": "stdout",
     "output_type": "stream",
     "text": [
      "INFO:D6L:Rolled 2\n"
     ]
    },
    {
     "data": {
      "text/plain": [
       "2"
      ]
     },
     "execution_count": 12,
     "metadata": {},
     "output_type": "execute_result"
    }
   ],
   "source": [
    "import logging\n",
    "from functools import wraps\n",
    "from typing import Type, Any, cast\n",
    "import sys\n",
    "import random\n",
    "import time\n",
    "\n",
    "\n",
    "class DieMeta(abc.ABCMeta):\n",
    "    def __new__(\n",
    "        metaclass: Type[type],\n",
    "        name: str,\n",
    "        bases: tuple[type, ...],\n",
    "        namespace: dict[str, Any],\n",
    "        **kwargs: Any,\n",
    "    ) -> \"DieMeta\":\n",
    "    \n",
    "        if \"roll\" in namespace and not getattr(\n",
    "            namespace[\"roll\"], \"__isabstractmethod__\", False):\n",
    "\n",
    "            namespace.setdefault(\"logger\", logging.getLogger(name))\n",
    "\n",
    "            original_method = namespace[\"roll\"]\n",
    "\n",
    "            @wraps(original_method)\n",
    "            def logged_roll(self: \"DieLog\") -> None:\n",
    "                original_method(self)\n",
    "                self.logger.info(f\"Rolled {self.face}\")\n",
    "\n",
    "            namespace[\"roll\"] = logged_roll\n",
    "    \n",
    "        new_object = cast(\n",
    "            \"DieMeta\", abc.ABCMeta.__new__(\n",
    "                metaclass, name, bases, namespace\n",
    "            )\n",
    "        )\n",
    "        return new_object\n",
    "    \n",
    "    \n",
    "class DieLog(metaclass=DieMeta):\n",
    "    logger: logging.Logger\n",
    "        \n",
    "    def __init__(self) -> None:\n",
    "        self.face: int\n",
    "        self.roll()\n",
    "        \n",
    "    @abc.abstractmethod\n",
    "    def roll(self) -> None: ...\n",
    "        \n",
    "    def __repr__(self) -> str:\n",
    "        return f\"{self.face}\"\n",
    "    \n",
    "    \n",
    "class D6L(DieLog):\n",
    "    def roll(self) -> None:\n",
    "        \"\"\"This function useses logg_roll\"\"\"\n",
    "        self.face = random.randrange(1, 7)\n",
    "        \n",
    "        \n",
    "logging.basicConfig(stream=sys.stdout, level=logging.INFO)\n",
    "d2 = D6L()\n",
    "time.sleep(1)\n",
    "d2.face"
   ]
  },
  {
   "cell_type": "markdown",
   "id": "2f9d1235",
   "metadata": {},
   "source": [
    "**Note:** \n",
    "Every class which inherits from inteface which uses our metaclass will use the same metaclass.\n",
    "Also note, we check if the method which will be wrapped with our decorator is abstract.    \n",
    "    "
   ]
  },
  {
   "cell_type": "code",
   "execution_count": 8,
   "id": "069fb5fc",
   "metadata": {
    "scrolled": true
   },
   "outputs": [
    {
     "name": "stderr",
     "output_type": "stream",
     "text": [
      "[NbConvertApp] Converting notebook 06-Metaclass.ipynb to script\n",
      "[NbConvertApp] Writing 2609 bytes to test.py\n"
     ]
    },
    {
     "name": "stdout",
     "output_type": "stream",
     "text": [
      "\u001b[1m\u001b[32mSuccess: no issues found in 1 source file\u001b[m\n",
      "\n"
     ]
    }
   ],
   "source": [
    "if __name__ == '__main__':        \n",
    "    import doctest\n",
    "    import subprocess\n",
    "    name = '06-Metaclass'\n",
    "    doctest.testmod(verbose=False)\n",
    "    subprocess.run(f'jupyter nbconvert --to script --output test \"{name}\"', shell=True)\n",
    "    std_out = subprocess.run('mypy --strict test.py', capture_output=True, shell=True).stdout\n",
    "    print(std_out.decode('ascii'))"
   ]
  }
 ],
 "metadata": {
  "kernelspec": {
   "display_name": "Python 3 (ipykernel)",
   "language": "python",
   "name": "python3"
  },
  "language_info": {
   "codemirror_mode": {
    "name": "ipython",
    "version": 3
   },
   "file_extension": ".py",
   "mimetype": "text/x-python",
   "name": "python",
   "nbconvert_exporter": "python",
   "pygments_lexer": "ipython3",
   "version": "3.11.4"
  }
 },
 "nbformat": 4,
 "nbformat_minor": 5
}
