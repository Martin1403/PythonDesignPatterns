{
 "cells": [
  {
   "cell_type": "markdown",
   "id": "6f4df697",
   "metadata": {},
   "source": [
    "## Memento\n",
    "\n",
    "A token/handle representing the system state. Lets us roll back to the\n",
    "state when the token was generated. May or may not directly expose\n",
    "state information."
   ]
  },
  {
   "cell_type": "code",
   "execution_count": 6,
   "id": "91c468d3",
   "metadata": {},
   "outputs": [
    {
     "name": "stdout",
     "output_type": "stream",
     "text": [
      "Balance=175$\n",
      "\n",
      "Balance=150$\n",
      "Balance=175$\n"
     ]
    }
   ],
   "source": [
    "class Memento:\n",
    "    def __init__(self, balance):\n",
    "        self.balance = balance\n",
    "\n",
    "class BankAccount:\n",
    "    def __init__(self, balance=0):\n",
    "        self.balance = balance\n",
    "        \n",
    "    def deposit(self, amount):\n",
    "        self.balance += amount\n",
    "        return Memento(self.balance)\n",
    "    \n",
    "    def restore(self, memento):\n",
    "        self.balance = memento.balance\n",
    "    \n",
    "    def __str__(self):\n",
    "        return f\"Balance={self.balance}$\"\n",
    "    \n",
    "ba = BankAccount(100)\n",
    "m1 = ba.deposit(50)\n",
    "m2 = ba.deposit(25)\n",
    "print(ba, end='\\n\\n')\n",
    "\n",
    "# restore\n",
    "ba.restore(m1)\n",
    "print(ba)\n",
    "ba.restore(m2)\n",
    "print(ba)"
   ]
  },
  {
   "cell_type": "markdown",
   "id": "0bee37de",
   "metadata": {},
   "source": [
    "### Undo and Redo"
   ]
  },
  {
   "cell_type": "code",
   "execution_count": 8,
   "id": "1e0dd8a2",
   "metadata": {},
   "outputs": [
    {
     "name": "stdout",
     "output_type": "stream",
     "text": [
      "Balance=175$\n",
      "\n",
      "Undo 1: Balance=150$\n",
      "Undo 2: Balance=100$\n",
      "Redo 1: Balance=150$\n"
     ]
    }
   ],
   "source": [
    "class Memento:\n",
    "    def __init__(self, balance):\n",
    "        self.balance = balance\n",
    "\n",
    "class BankAccount:\n",
    "    def __init__(self, balance=0):\n",
    "        self.balance = balance\n",
    "        self.changes = [Memento(self.balance)]\n",
    "        self.current = 0\n",
    "        \n",
    "    def deposit(self, amount):\n",
    "        self.balance += amount\n",
    "        m = Memento(self.balance)\n",
    "        self.changes.append(m)\n",
    "        self.current += 1\n",
    "        return m\n",
    "    \n",
    "    def restore(self, memento):\n",
    "        if memento:\n",
    "            self.balance = memento.balance\n",
    "            self.changes.append(memento)\n",
    "            self.current = len(self.changes) - 1\n",
    "    \n",
    "    def undo(self):\n",
    "        if self.current > 0:\n",
    "            self.current -= 1\n",
    "            m = self.changes[self.current]\n",
    "            self.balance = m.balance\n",
    "            return m\n",
    "        return None\n",
    "    \n",
    "    def redo(self):\n",
    "        if self.current + 1 < len(self.changes):\n",
    "            self.current += 1\n",
    "            m = self.changes[self.current]\n",
    "            self.balance = m.balance\n",
    "            return m\n",
    "        return None\n",
    "        \n",
    "    def __str__(self):\n",
    "        return f\"Balance={self.balance}$\"\n",
    "    \n",
    "ba = BankAccount(100)\n",
    "m1 = ba.deposit(50)\n",
    "m2 = ba.deposit(25)\n",
    "print(ba, end='\\n\\n')\n",
    "\n",
    "ba.undo()\n",
    "print(f\"Undo 1: {ba}\")\n",
    "ba.undo()\n",
    "print(f\"Undo 2: {ba}\")\n",
    "ba.redo()\n",
    "print(f\"Redo 1: {ba}\")"
   ]
  },
  {
   "cell_type": "code",
   "execution_count": null,
   "id": "13e27483",
   "metadata": {},
   "outputs": [],
   "source": []
  }
 ],
 "metadata": {
  "kernelspec": {
   "display_name": "Python 3 (ipykernel)",
   "language": "python",
   "name": "python3"
  },
  "language_info": {
   "codemirror_mode": {
    "name": "ipython",
    "version": 3
   },
   "file_extension": ".py",
   "mimetype": "text/x-python",
   "name": "python",
   "nbconvert_exporter": "python",
   "pygments_lexer": "ipython3",
   "version": "3.11.4"
  }
 },
 "nbformat": 4,
 "nbformat_minor": 5
}
