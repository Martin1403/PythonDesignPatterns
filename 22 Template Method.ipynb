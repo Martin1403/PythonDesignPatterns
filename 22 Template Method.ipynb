{
 "cells": [
  {
   "cell_type": "markdown",
   "id": "a464d342",
   "metadata": {},
   "source": [
    "## Template Method\n",
    "\n",
    "Allows us to define the `skeleton` of the algorithm, with concrete\n",
    "implementation defined in subclasses."
   ]
  },
  {
   "cell_type": "code",
   "execution_count": 1,
   "id": "a729bf78",
   "metadata": {},
   "outputs": [
    {
     "name": "stdout",
     "output_type": "stream",
     "text": [
      "Starting a game of chess with 2 players\n",
      "Turn 1 taken by player 0\n",
      "Turn 2 taken by player 1\n",
      "Turn 3 taken by player 0\n",
      "Turn 4 taken by player 1\n",
      "Turn 5 taken by player 0\n",
      "Turn 6 taken by player 1\n",
      "Turn 7 taken by player 0\n",
      "Turn 8 taken by player 1\n",
      "Turn 9 taken by player 0\n",
      "Player 1 wins!\n"
     ]
    }
   ],
   "source": [
    "import abc\n",
    "\n",
    "class Game(abc.ABC):\n",
    "    def __init__(self, number_of_players):\n",
    "        self.number_of_players = number_of_players\n",
    "        self.current_player = 0\n",
    "        \n",
    "    def run(self):  # <- Template Method\n",
    "        self.start()\n",
    "        while not self.have_winner:\n",
    "            self.take_turn()\n",
    "        print(f\"Player {self.winning_player} wins!\")\n",
    "        \n",
    "    def start(self): ...\n",
    "    \n",
    "    @property\n",
    "    def have_winner(self): ...\n",
    "        \n",
    "    def take_turn(self): ...\n",
    "        \n",
    "    @property\n",
    "    def winning_player(self): ...\n",
    "        \n",
    "    \n",
    "class Chess(Game):\n",
    "    def __init__(self):\n",
    "        super().__init__(2)\n",
    "        self.max_turns = 10\n",
    "        self.turn = 1\n",
    "        \n",
    "    def start(self):\n",
    "        print(\"Starting a game of chess with \"\n",
    "              f\"{self.number_of_players} players\")\n",
    "    \n",
    "    @property\n",
    "    def have_winner(self):\n",
    "        return self.turn == self.max_turns\n",
    "        \n",
    "    def take_turn(self):\n",
    "        print(f\"Turn {self.turn} taken by player \"\n",
    "              f\"{self.current_player}\")\n",
    "        self.turn += 1\n",
    "        self.current_player = 1 - self.current_player\n",
    "        \n",
    "    @property\n",
    "    def winning_player(self):\n",
    "        return self.current_player\n",
    "    \n",
    "chess = Chess()\n",
    "chess.run()"
   ]
  },
  {
   "cell_type": "code",
   "execution_count": null,
   "id": "adddc38a",
   "metadata": {},
   "outputs": [],
   "source": []
  }
 ],
 "metadata": {
  "kernelspec": {
   "display_name": "Python 3 (ipykernel)",
   "language": "python",
   "name": "python3"
  },
  "language_info": {
   "codemirror_mode": {
    "name": "ipython",
    "version": 3
   },
   "file_extension": ".py",
   "mimetype": "text/x-python",
   "name": "python",
   "nbconvert_exporter": "python",
   "pygments_lexer": "ipython3",
   "version": "3.11.4"
  }
 },
 "nbformat": 4,
 "nbformat_minor": 5
}
