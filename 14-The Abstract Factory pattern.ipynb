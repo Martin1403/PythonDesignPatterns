{
 "cells": [
  {
   "cell_type": "markdown",
   "id": "520e3c95",
   "metadata": {},
   "source": [
    "## The Abstract Factory pattern\n",
    "\n",
    "The Abstract Factory pattern is appropriate when we have multiple possible\n",
    "implementations of a system that depend on some configuration or platform detail.\n",
    "The calling code requests an object from the Abstract Factory, not knowing exactly\n",
    "what class of object will be returned. The underlying implementation returned may\n",
    "depend on a variety of factors, such as the current locale, operating system, or local\n",
    "configuration.\n",
    "\n",
    "![](uml/abstract_factory_pattern.png)\n",
    "\n",
    "### An Abstract Factory example\n",
    "\n",
    "![](uml/abstract_factory_example.png)"
   ]
  },
  {
   "cell_type": "code",
   "execution_count": 35,
   "id": "69638dcf",
   "metadata": {},
   "outputs": [],
   "source": [
    "import abc\n",
    "import collections\n",
    "import random\n",
    "from enum import Enum, auto\n",
    "import itertools\n",
    "from pprint import pprint\n",
    "from typing import (\n",
    "    Any,\n",
    "    Counter,\n",
    "    Iterator,\n",
    "    Iterable,\n",
    "    List,\n",
    "    NamedTuple,\n",
    "    TypeVar,\n",
    "    cast,\n",
    ")\n",
    "\n",
    "class Suit(str, Enum):\n",
    "    \"\"\"\n",
    "    >>> Suit.Spades\n",
    "    <Suit.Spades: '♠'>\n",
    "    \"\"\"\n",
    "    Clubs = \"\\N{Black Club Suit}\"\n",
    "    Diamonds = \"\\N{Black Diamond Suit}\"\n",
    "    Hearts = \"\\N{Black Heart Suit}\"\n",
    "    Spades = \"\\N{Black Spade Suit}\"\n",
    "    \n",
    "\n",
    "class Card(NamedTuple):\n",
    "    \"\"\"\n",
    "    >>> c = Card(5, Suit.Spades)\n",
    "    >>> print(c)\n",
    "    5♠\n",
    "    >>> c\n",
    "    Card(rank=5, suit=<Suit.Spades: '♠'>)\n",
    "    \"\"\"\n",
    "    rank: int\n",
    "    suit: Suit\n",
    "    \n",
    "    def __str__(self) -> str:\n",
    "        return f\"{self.rank}{self.suit.value}\"\n",
    "    \n",
    "    \n",
    "class CribbageCard(Card):\n",
    "    @property\n",
    "    def points(self) -> int:\n",
    "        return self.rank\n",
    "    \n",
    "    \n",
    "class CribbageAce(Card):\n",
    "    @property\n",
    "    def points(self) -> int:\n",
    "        return 1\n",
    "    \n",
    "    \n",
    "class CribbageFace(Card):\n",
    "    @property\n",
    "    def points(self) -> int:\n",
    "        return 10"
   ]
  },
  {
   "cell_type": "code",
   "execution_count": 36,
   "id": "d5e1d3c5",
   "metadata": {},
   "outputs": [],
   "source": [
    "class Trick(int, Enum):\n",
    "    pass\n",
    "\n",
    "\n",
    "class CribbageTrick(Trick):\n",
    "    \"\"\"\n",
    "    >>> list(CribbageTrick)[:2]\n",
    "    [<CribbageTrick.Fifteen: 1>, <CribbageTrick.Pair: 2>]\n",
    "    \"\"\"\n",
    "    Fifteen = auto()\n",
    "    Pair = auto()\n",
    "    Run_3 = auto()\n",
    "    Run_4 = auto()\n",
    "    Run_5 = auto()\n",
    "    Right_Jack = auto()\n"
   ]
  },
  {
   "cell_type": "code",
   "execution_count": 72,
   "id": "98c524b9",
   "metadata": {},
   "outputs": [
    {
     "data": {
      "text/plain": [
       "[(),\n",
       " ('6♣',),\n",
       " ('7♦',),\n",
       " ('8♥',),\n",
       " ('6♣', '7♦'),\n",
       " ('6♣', '8♥'),\n",
       " ('7♦', '8♥'),\n",
       " ('6♣', '7♦', '8♥')]"
      ]
     },
     "execution_count": 72,
     "metadata": {},
     "output_type": "execute_result"
    }
   ],
   "source": [
    "c = TypeVar(\"C\")\n",
    "\n",
    "def powerset(iterable: Iterable[c]) -> Iterator[tuple[c, ...]]:\n",
    "    \"\"\"powerset([1,2,3]) --> () (1,) (2,) (3,) (1,2) (1,3) (2,3) (1,2,3)\"\"\"\n",
    "    s = list(iterable)\n",
    "    return itertools.chain.from_iterable(\n",
    "        itertools.combinations(s, r) for r in range(len(s) + 1)\n",
    "    )\n",
    "\n",
    "cards = [\n",
    "    CribbageCard(6, Suit.Clubs),\n",
    "    CribbageCard(7, Suit.Diamonds),\n",
    "    CribbageCard(8, Suit.Hearts),\n",
    "]   \n",
    "\n",
    "[tuple(map(str, t)) for t in powerset(cards)]"
   ]
  },
  {
   "cell_type": "code",
   "execution_count": 56,
   "id": "b6c008e8",
   "metadata": {},
   "outputs": [
    {
     "name": "stdout",
     "output_type": "stream",
     "text": [
      "Hand:\n",
      "['6♣', '7♦', '8♥', '9♠']\n",
      "\n",
      "Starter:\n",
      "'5♠'\n"
     ]
    },
    {
     "data": {
      "text/plain": [
       "['Fifteen', 'Fifteen', 'Run_5']"
      ]
     },
     "execution_count": 56,
     "metadata": {},
     "output_type": "execute_result"
    }
   ],
   "source": [
    "class Hand(List[Card]):\n",
    "    \"\"\"\n",
    "    >>> Hand(Card(1, Suit.Spades), Card(5, Suit.Hearts))\n",
    "    [Card(rank=1, suit=<Suit.Spades: '♠'>), Card(rank=5, suit=<Suit.Hearts: '♥'>)]\n",
    "    \"\"\"\n",
    "    def __init__(self, *cards: Card) -> None:\n",
    "        super().__init__(cards)\n",
    "    \n",
    "    @abc.abstractmethod\n",
    "    def scoring(self) -> list[Trick]: ...\n",
    "        \n",
    "        \n",
    "class CribbageHand(Hand):\n",
    "    starter: Card\n",
    "    \n",
    "    def upcard(self, starter: Card) -> \"Hand\":\n",
    "        self.starter = starter\n",
    "        return self\n",
    "    \n",
    "    def scoring(self) -> list[Trick]:\n",
    "        \"\"\"15's. Pairs. Runs. Right Jack.\"\"\"\n",
    "        \n",
    "        def trick_iter(cards: list[CribbageCard]) -> Iterator[Trick]:\n",
    "            for subset in powerset(cards):\n",
    "                if sum(card.points for card in subset) == 15:\n",
    "                    yield CribbageTrick.Fifteen\n",
    "            for card1, card2 in itertools.combinations(cards, 2):\n",
    "                if card1.rank == card2.rank:\n",
    "                    yield CribbageTrick.Pair\n",
    "        \n",
    "        def run_length(sorted_cards: list[CribbageCard]) -> int:\n",
    "            card_iter = iter(sorted_cards)\n",
    "            base = next(card_iter)\n",
    "            for offset, card in enumerate(card_iter, start=1):\n",
    "                if base.rank + offset != card.rank:\n",
    "                    break\n",
    "            return offset + 1\n",
    "        \n",
    "        hand_plus_starter = cast(List[CribbageCard], self + [self.starter])\n",
    "        hand_plus_starter.sort()\n",
    "        tricks = list(trick_iter(hand_plus_starter))\n",
    "        \n",
    "        if run_length(hand_plus_starter) == 5:\n",
    "            tricks += [CribbageTrick.Run_5]\n",
    "        elif (run_length(hand_plus_starter) == 4 \n",
    "              or run_length(hand_plus_starter[1:]) == 4):\n",
    "            tricks += [CribbageTrick.Run_4]\n",
    "        elif (run_length(hand_plus_starter) == 3\n",
    "              or run_length(hand_plus_starter[1:]) == 3\n",
    "              or run_length(hand_plus_starter[2:]) == 3):\n",
    "            tricks += [CribbageTrick.Run_3]\n",
    "        \n",
    "        right_jack = any(c.rank == 11 and c.suit == self.starter.suit\n",
    "                         for c in self)\n",
    "        if right_jack:\n",
    "            tricks += [CribbageTrick.Right_Jack]\n",
    "        return tricks\n",
    "    \n",
    "    \n",
    "cards = [\n",
    "    CribbageCard(6, Suit.Clubs),\n",
    "    CribbageCard(7, Suit.Diamonds),\n",
    "    CribbageCard(8, Suit.Hearts),\n",
    "    CribbageCard(9, Suit.Spades),\n",
    "]       \n",
    "hand = CribbageHand(*cards)\n",
    "print(\"Hand:\")\n",
    "pprint(list(map(str, hand)))\n",
    "print()\n",
    "print(\"Starter:\")\n",
    "starter = CribbageCard(5, Suit.Spades)\n",
    "pprint(str(starter))\n",
    "score = sorted(hand.upcard(starter).scoring())\n",
    "list(map(lambda x: x.name, score))"
   ]
  },
  {
   "cell_type": "code",
   "execution_count": 52,
   "id": "a23b290c",
   "metadata": {},
   "outputs": [
    {
     "data": {
      "text/plain": [
       "['Fifteen', 'Fifteen', 'Run_5']"
      ]
     },
     "execution_count": 52,
     "metadata": {},
     "output_type": "execute_result"
    }
   ],
   "source": [
    "class CardGameFactory(abc.ABC):\n",
    "    @abc.abstractmethod\n",
    "    def make_card(self, rank: int, suit: Suit) -> \"Card\": ...\n",
    "        \n",
    "    @abc.abstractmethod\n",
    "    def make_hand(self, *cards: Card) -> \"Hand\": ...\n",
    "        \n",
    "        \n",
    "class CribbageFactory(CardGameFactory):\n",
    "    def make_card(self, rank: int, suit: Suit) -> \"Card\":\n",
    "        if rank == 1:\n",
    "            return CribbageAce(rank, suit)\n",
    "        elif 2 <= rank < 11:\n",
    "            return CribbageCard(rank, suit)\n",
    "        else:\n",
    "            return CribbageFace(rank, suit)\n",
    "    \n",
    "    def make_hand(self, *cards: Card) -> \"Hand\":\n",
    "        return CribbageHand(*cards)\n",
    "    \n",
    "    \n",
    "factory = CribbageFactory()\n",
    "cards = [\n",
    "    factory.make_card(6, Suit.Clubs),\n",
    "    factory.make_card(7, Suit.Diamonds),\n",
    "    factory.make_card(8, Suit.Hearts),\n",
    "    factory.make_card(9, Suit.Spades),\n",
    "]\n",
    "starter = factory.make_card(5, Suit.Spades)\n",
    "hand = factory.make_hand(*cards)\n",
    "score = sorted(hand.upcard(starter).scoring())\n",
    "[t.name for t in score]"
   ]
  },
  {
   "cell_type": "code",
   "execution_count": 94,
   "id": "a6f30798",
   "metadata": {},
   "outputs": [
    {
     "name": "stdout",
     "output_type": "stream",
     "text": [
      "['1♣', '2♦', '3♥', '4♠', '5♠']\n",
      "\n"
     ]
    },
    {
     "data": {
      "text/plain": [
       "[<PokerTrick.Straight: 4>]"
      ]
     },
     "execution_count": 94,
     "metadata": {},
     "output_type": "execute_result"
    }
   ],
   "source": [
    "class PokerCard(Card):\n",
    "    def __str__(self) -> str:\n",
    "        if self.rank == 14:\n",
    "            return f\"A{self.suit.value}\"\n",
    "        return f\"{self.rank}{self.suit.value}\"\n",
    "\n",
    "class PokerTrick(Trick):\n",
    "    Pair = auto()\n",
    "    TwoPair = auto()\n",
    "    Three = auto()\n",
    "    Straight = auto()\n",
    "    Flush = auto()\n",
    "    FullHouse = auto()\n",
    "    Four = auto()\n",
    "    StraightFlush = auto()\n",
    "    \n",
    "    \n",
    "class PokerHand(Hand):\n",
    "    def scoring(self) -> list[Trick]:\n",
    "        \"\"\"Return a single 'Trick'\"\"\"\n",
    "        # Disctinc Ranks -> Counter({5: 3, 6: 2})\n",
    "        ranks: Counter[int] = collections.Counter(c.rank for c in self)\n",
    "        # Dictinct Suits -> True if all cards have the same Suit\n",
    "        flush = len(set(c.suit for c in self)) == 1\n",
    "        if len(ranks) == 1:\n",
    "            # five of a kind!\n",
    "            raise Exception(f\"Broken Hand {self}\")\n",
    "        elif len(ranks) == 2:\n",
    "            # 4-1 or 3-2 ['1♣', '5♦', '5♥', '5♠', '5♠']\n",
    "            card, count = ranks.most_common(1)[0]\n",
    "            if count == 4:\n",
    "                return [PokerTrick.Four]\n",
    "            elif count == 3:\n",
    "                return [PokerTrick.FullHouse]\n",
    "            else:\n",
    "                raise Exception(f\"Broken Hand {self}\")\n",
    "        elif len(ranks) == 3:\n",
    "            # 3-1-1, or 2-2-1 ['1♣', '2♦', '5♥', '5♠', '5♠']\n",
    "            card, count = ranks.most_common(1)[0]\n",
    "            if count == 3:\n",
    "                return [PokerTrick.Three]\n",
    "            elif count == 2:\n",
    "                return [PokerTrick.TwoPair]\n",
    "            else:\n",
    "                raise Exception(f\"Broken Hand {self}\")\n",
    "        elif len(ranks) == 4:\n",
    "            # 2-1-1-1 ['1♣', '2♦', '3♥', '5♠', '5♠']\n",
    "            return [PokerTrick.Pair]\n",
    "        elif len(ranks) == 5:\n",
    "            # straight ? ['1♣', '2♦', '3♥', '4♠', '5♠']\n",
    "            base = min(ranks)\n",
    "            straight = all(base + offset == rank\n",
    "                           for offset, rank in enumerate(ranks))\n",
    "            \n",
    "            if straight and flush:  # ['1♦', '2♦', '3♦', '4♦', '5♦']\n",
    "                return [PokerTrick.StraightFlush]\n",
    "            elif straight:  # ['1♣', '2♦', '3♥', '4♠', '5♠']\n",
    "                return [PokerTrick.Straight]\n",
    "            elif flush:  # ['1♦', '2♦', '3♦', '4♦', '7♦']\n",
    "                return [PokerTrick.Flush]\n",
    "            else:\n",
    "                return []\n",
    "        else:\n",
    "            return []\n",
    "            \n",
    "cards = [\n",
    "    PokerCard(1, Suit.Clubs),\n",
    "    PokerCard(2, Suit.Diamonds),\n",
    "    PokerCard(3, Suit.Hearts),\n",
    "    PokerCard(4, Suit.Spades),\n",
    "    PokerCard(5, Suit.Spades),\n",
    "]\n",
    "\n",
    "hand = PokerHand(*cards)\n",
    "pprint(list(map(str, hand)))\n",
    "print()\n",
    "hand.scoring()"
   ]
  },
  {
   "cell_type": "code",
   "execution_count": 95,
   "id": "34e3ccc6",
   "metadata": {},
   "outputs": [
    {
     "data": {
      "text/plain": [
       "[<PokerTrick.FullHouse: 6>]"
      ]
     },
     "execution_count": 95,
     "metadata": {},
     "output_type": "execute_result"
    }
   ],
   "source": [
    "class PokerFactory(CardGameFactory):\n",
    "    def make_card(self, rank: int, suit: Suit) -> \"Card\":\n",
    "        if rank == 1:\n",
    "            # Aces above kings\n",
    "            rank = 14\n",
    "        return PokerCard(rank, suit)\n",
    "    def make_hand(self, *cards: Card) -> \"Hand\":\n",
    "        return PokerHand(*cards)\n",
    "    \n",
    "factory = PokerFactory()\n",
    "cards = [\n",
    "    factory.make_card(5, Suit.Clubs),\n",
    "    factory.make_card(5, Suit.Diamonds),\n",
    "    factory.make_card(5, Suit.Hearts),\n",
    "    factory.make_card(6, Suit.Spades),\n",
    "    factory.make_card(6, Suit.Spades),\n",
    "]\n",
    "hand = factory.make_hand(*cards)\n",
    "hand.scoring()"
   ]
  },
  {
   "cell_type": "code",
   "execution_count": 114,
   "id": "82a84069",
   "metadata": {},
   "outputs": [
    {
     "name": "stdout",
     "output_type": "stream",
     "text": [
      "['2♣', '13♥', '13♣', '13♠', '2♥']\n",
      "[<PokerTrick.FullHouse: 6>]\n"
     ]
    }
   ],
   "source": [
    "class Game:\n",
    "    def __init__(self, factory: CardGameFactory) -> None:\n",
    "        self.factory = factory\n",
    "        \n",
    "    def prepare(self) -> None:\n",
    "        self.deck = [\n",
    "            self.factory.make_card(r, s) \n",
    "            for r in range(1, 14)\n",
    "            for s in iter(Suit)\n",
    "        ]\n",
    "        random.shuffle(self.deck)\n",
    "    \n",
    "    def deal(self) -> \"Hand\":\n",
    "        hand = self.factory.make_hand(*self.deck[:5])\n",
    "        return hand\n",
    "    \n",
    "    def score(self, hand: Hand) -> None:\n",
    "        print(hand.scoring())\n",
    "        \n",
    "class Poker(Game):\n",
    "    pass\n",
    "\n",
    "\n",
    "random.seed(278)\n",
    "poker_game = Poker(PokerFactory())\n",
    "poker_game.prepare()\n",
    "hand = poker_game.deal()\n",
    "print(list(map(str, hand)))\n",
    "poker_game.score(hand)"
   ]
  },
  {
   "cell_type": "code",
   "execution_count": 116,
   "id": "c24bcb32",
   "metadata": {},
   "outputs": [
    {
     "name": "stdout",
     "output_type": "stream",
     "text": [
      "['6♦', '5♠', '10♠', '11♥', '7♣']\n",
      "[<CribbageTrick.Fifteen: 1>, <CribbageTrick.Fifteen: 1>, <CribbageTrick.Pair: 2>, <CribbageTrick.Run_3: 3>]\n"
     ]
    }
   ],
   "source": [
    "class Cribbage(Game):\n",
    "    def score(self, hand: Hand) -> None:\n",
    "        up_card = self.deck[5]\n",
    "        hand = cast(CribbageHand, hand).upcard(up_card)\n",
    "        print(hand.scoring())\n",
    "        \n",
    "\n",
    "cribbage_game = Cribbage(CribbageFactory())\n",
    "cribbage_game.prepare()\n",
    "hand = cribbage_game.deal()\n",
    "print(list(map(str, hand)))\n",
    "cribbage_game.score(hand)"
   ]
  },
  {
   "cell_type": "code",
   "execution_count": null,
   "id": "4014430e",
   "metadata": {},
   "outputs": [],
   "source": []
  }
 ],
 "metadata": {
  "kernelspec": {
   "display_name": "Python 3 (ipykernel)",
   "language": "python",
   "name": "python3"
  },
  "language_info": {
   "codemirror_mode": {
    "name": "ipython",
    "version": 3
   },
   "file_extension": ".py",
   "mimetype": "text/x-python",
   "name": "python",
   "nbconvert_exporter": "python",
   "pygments_lexer": "ipython3",
   "version": "3.11.4"
  }
 },
 "nbformat": 4,
 "nbformat_minor": 5
}
