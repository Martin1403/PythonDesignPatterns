{
 "cells": [
  {
   "cell_type": "markdown",
   "id": "53efd96c",
   "metadata": {},
   "source": [
    "## Composite\n",
    "\n",
    "A mechanism for treating individual (scalar) objects\n",
    "and compositions of objects in a uniform manner."
   ]
  },
  {
   "cell_type": "markdown",
   "id": "d631e797",
   "metadata": {},
   "source": [
    "### Geometric Shapes"
   ]
  },
  {
   "cell_type": "code",
   "execution_count": 2,
   "id": "c7d64299",
   "metadata": {},
   "outputs": [
    {
     "name": "stdout",
     "output_type": "stream",
     "text": [
      "My drawing\n",
      "*RedSquare\n",
      "*YellowCircle\n",
      "*Group\n",
      "**BlueCircle\n",
      "**GreenSquare\n",
      "\n"
     ]
    }
   ],
   "source": [
    "class GraphicObject:\n",
    "    def __init__(self, color=None):\n",
    "        self.color = color\n",
    "        self.children = []\n",
    "        self._name = 'Group'\n",
    "        \n",
    "    @property\n",
    "    def name(self):\n",
    "        return self._name\n",
    "    \n",
    "    def _print(self, items, depth):\n",
    "        items.append('*' * depth)\n",
    "        if self.color:\n",
    "            items.append(self.color)\n",
    "        items.append(f'{self.name}\\n')\n",
    "        for child in self.children:\n",
    "            child._print(items, depth + 1)\n",
    "\n",
    "    def __str__(self):\n",
    "        items = []\n",
    "        self._print(items, 0)\n",
    "        return ''.join(items)\n",
    "    \n",
    "    \n",
    "class Circle(GraphicObject):\n",
    "    @property\n",
    "    def name(self):\n",
    "        return 'Circle'\n",
    "    \n",
    "class Square(GraphicObject):\n",
    "    @property\n",
    "    def name(self):\n",
    "        return 'Square'\n",
    "    \n",
    "\n",
    "drawing = GraphicObject()\n",
    "drawing._name = 'My drawing'\n",
    "drawing.children.append(Square('Red'))\n",
    "drawing.children.append(Circle('Yellow'))\n",
    "\n",
    "group = GraphicObject()\n",
    "group.children.append(Circle('Blue'))\n",
    "group.children.append(Square('Green'))\n",
    "\n",
    "drawing.children.append(group)\n",
    "print(drawing)"
   ]
  },
  {
   "cell_type": "markdown",
   "id": "e0c9fc60",
   "metadata": {},
   "source": [
    "### Neural Networks"
   ]
  },
  {
   "cell_type": "code",
   "execution_count": 20,
   "id": "7d3887ea",
   "metadata": {},
   "outputs": [
    {
     "name": "stdout",
     "output_type": "stream",
     "text": [
      "n1, 0 inputs, 4 outputs\n",
      "n2, 4 inputs, 0 outputs\n",
      "L1 with 3 neurons \n",
      "L2 with 4 neurons \n"
     ]
    }
   ],
   "source": [
    "from abc import ABC\n",
    "from collections.abc import Iterable\n",
    "\n",
    "class Connectable(ABC, Iterable):\n",
    "    def connect_to(self, other):\n",
    "        if self == other:\n",
    "            return\n",
    "\n",
    "        for s in self:\n",
    "            for o in other:\n",
    "                s.outputs.append(o)\n",
    "                o.inputs.append(s)\n",
    "        \n",
    "\n",
    "class Neuron(Connectable):\n",
    "    def __init__(self, name):\n",
    "        self.name = name\n",
    "        self.inputs = []\n",
    "        self.outputs = []\n",
    "        \n",
    "    def __str__(self):\n",
    "        return f'{self.name}, '\\\n",
    "               f'{len(self.inputs)} inputs, ' \\\n",
    "               f'{len(self.outputs)} outputs'\n",
    "    \n",
    "    def __iter__(self):\n",
    "        yield self\n",
    "    \n",
    "        \n",
    "class NeuronLayer(list, Connectable):\n",
    "    def __init__(self, name, count):\n",
    "        super().__init__()\n",
    "        self.name = name\n",
    "        for x in range(0, count):\n",
    "            self.append(Neuron(f'{name}-{x}'))\n",
    "            \n",
    "    def __str__(self):\n",
    "        return f'{self.name} with {len(self)} neurons '\n",
    "    \n",
    "\n",
    "    \n",
    "neuron1 = Neuron('n1')\n",
    "neuron2 = Neuron('n2')\n",
    "layer1 = NeuronLayer('L1', 3)\n",
    "layer2 = NeuronLayer('L2', 4)\n",
    "\n",
    "neuron1.connect_to(neuron2)\n",
    "neuron1.connect_to(layer1)\n",
    "layer1.connect_to(neuron2)\n",
    "layer1.connect_to(layer2)\n",
    "\n",
    "print(neuron1, neuron2, layer1, layer2, sep='\\n')"
   ]
  },
  {
   "cell_type": "code",
   "execution_count": null,
   "id": "de72fa5a",
   "metadata": {},
   "outputs": [],
   "source": []
  }
 ],
 "metadata": {
  "kernelspec": {
   "display_name": "Python 3 (ipykernel)",
   "language": "python",
   "name": "python3"
  },
  "language_info": {
   "codemirror_mode": {
    "name": "ipython",
    "version": 3
   },
   "file_extension": ".py",
   "mimetype": "text/x-python",
   "name": "python",
   "nbconvert_exporter": "python",
   "pygments_lexer": "ipython3",
   "version": "3.11.4"
  }
 },
 "nbformat": 4,
 "nbformat_minor": 5
}
