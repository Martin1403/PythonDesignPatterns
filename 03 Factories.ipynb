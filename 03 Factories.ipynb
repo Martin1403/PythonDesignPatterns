{
 "cells": [
  {
   "cell_type": "markdown",
   "id": "73b9ebf4",
   "metadata": {},
   "source": [
    "## Factories\n",
    "\n",
    "A component responsible solely for\n",
    "the wholesale (not piecewise) creation of objects.\n",
    "\n",
    "### Factory Method\n",
    "\n",
    "Any method that creates object"
   ]
  },
  {
   "cell_type": "code",
   "execution_count": 2,
   "id": "8d2d270e",
   "metadata": {},
   "outputs": [
    {
     "name": "stdout",
     "output_type": "stream",
     "text": [
      "x=2, y=4\n",
      "x=-1.9799849932008908, y=0.2822400161197344\n"
     ]
    }
   ],
   "source": [
    "from math import *\n",
    "\n",
    "class Point:\n",
    "    def __init__(self, x, y):\n",
    "        self.x = x\n",
    "        self.y = y\n",
    "        \n",
    "    def __str__(self):\n",
    "        return f'x={self.x}, y={self.y}'\n",
    "        \n",
    "    @staticmethod\n",
    "    def new_cartision_point(x, y):\n",
    "        return Point(x, y)\n",
    "    \n",
    "    @staticmethod\n",
    "    def new_polar_point(rho, theta):\n",
    "        return Point(rho * cos(theta), rho * sin(theta))\n",
    "        \n",
    "        \n",
    "pc = Point(2, 4)\n",
    "pp = Point.new_polar_point(2, 3)\n",
    "\n",
    "print(pc)\n",
    "print(pp)"
   ]
  },
  {
   "cell_type": "markdown",
   "id": "b5cfc897",
   "metadata": {},
   "source": [
    "### Factory\n",
    "\n",
    "A separate entity that build an object"
   ]
  },
  {
   "cell_type": "code",
   "execution_count": 3,
   "id": "2179e6d0",
   "metadata": {},
   "outputs": [
    {
     "name": "stdout",
     "output_type": "stream",
     "text": [
      "x=2, y=4\n",
      "x=-1.9799849932008908, y=0.2822400161197344\n"
     ]
    }
   ],
   "source": [
    "from math import *\n",
    "\n",
    "class Point:\n",
    "    def __init__(self, x=0, y=0):\n",
    "        self.x = x\n",
    "        self.y = y\n",
    "        \n",
    "    def __str__(self):\n",
    "        return f'x={self.x}, y={self.y}'\n",
    "      \n",
    "\n",
    "    class PointFactory:\n",
    "        def new_cartision_point(self, x, y):\n",
    "            p = Point()\n",
    "            p.x = x\n",
    "            p.y = y\n",
    "            return p\n",
    "\n",
    "        def new_polar_point(self, rho, theta):\n",
    "            return Point(rho * cos(theta), rho * sin(theta))\n",
    "        \n",
    "    factory = PointFactory()\n",
    "        \n",
    "pc = Point(2, 4)\n",
    "pp = Point.factory.new_polar_point(2, 3)\n",
    "\n",
    "print(pc)\n",
    "print(pp)"
   ]
  },
  {
   "cell_type": "markdown",
   "id": "f25e88d3",
   "metadata": {},
   "source": [
    "### Abstract Factory\n",
    "\n",
    "As a base class"
   ]
  },
  {
   "cell_type": "code",
   "execution_count": 10,
   "id": "125ed343",
   "metadata": {},
   "outputs": [
    {
     "name": "stdout",
     "output_type": "stream",
     "text": [
      "Available drinks:\n",
      "Coffee\n",
      "Tea\n",
      "Please pick drink (0-1)1\n",
      "Specify amount: 66\n",
      "<__main__.TeaFactory object at 0x7fe198ab4910>\n",
      "Put in tea bag, boil water, pour 66ml.\n"
     ]
    },
    {
     "data": {
      "text/plain": [
       "<__main__.Tea at 0x7fe198ab43a0>"
      ]
     },
     "execution_count": 10,
     "metadata": {},
     "output_type": "execute_result"
    }
   ],
   "source": [
    "from enum import Enum, auto\n",
    "from abc import ABC, abstractmethod\n",
    "\n",
    "class HotDrink(ABC):\n",
    "    @abstractmethod\n",
    "    def consume(self):\n",
    "        ...\n",
    "        \n",
    "class Tea(HotDrink):\n",
    "    def consume(self):\n",
    "        print('This tea is delicious.')\n",
    "        \n",
    "class Coffee(HotDrink):\n",
    "    def consume(self):\n",
    "        print('This coffee is delicious.')\n",
    "        \n",
    "        \n",
    "class HotDrinkFactory(ABC):\n",
    "    @abstractmethod\n",
    "    def prepare(self, amount):\n",
    "        ...\n",
    "        \n",
    "class TeaFactory(HotDrinkFactory):\n",
    "    def prepare(self, amount):\n",
    "        print(f'Put in tea bag, boil water, pour {amount}ml.')\n",
    "        return Tea()\n",
    "            \n",
    "class CoffeeFactory(HotDrinkFactory):\n",
    "    def prepare(self, amount):\n",
    "        print(f'Grind some beans, boil water, pour {amount}ml.')\n",
    "        return Coffee()\n",
    "\n",
    "    \n",
    "class HotDrinkMachine:\n",
    "    class AvailableDrink(Enum):\n",
    "        COFFEE = auto()\n",
    "        TEA = auto()\n",
    "    \n",
    "    factories = []\n",
    "    inititalized = False\n",
    "    \n",
    "    def __init__(self):\n",
    "        if not self.inititalized:\n",
    "            self.inititalized = True\n",
    "            for d in self.AvailableDrink:\n",
    "                name = d.name[0] + d.name[1:].lower()\n",
    "                factory_name = name + 'Factory'\n",
    "                factory_instance = eval(factory_name)()\n",
    "                self.factories.append((name, factory_instance))\n",
    "                \n",
    "    def make_drink(self):\n",
    "        print('Available drinks:')\n",
    "        for f in self.factories:\n",
    "            print(f[0])\n",
    "            \n",
    "        s = input(f'Please pick drink (0-{len(self.factories)-1})')\n",
    "        idx = int(s)\n",
    "        s = input(f'Specify amount: ')\n",
    "        amount = int(s)\n",
    "        return self.factories[idx][1].prepare(amount)\n",
    "        \n",
    "        \n",
    "hdm = HotDrinkMachine()\n",
    "hdm.make_drink()"
   ]
  },
  {
   "cell_type": "code",
   "execution_count": null,
   "id": "e238f3ff",
   "metadata": {},
   "outputs": [],
   "source": []
  },
  {
   "cell_type": "code",
   "execution_count": null,
   "id": "0efaf2d7",
   "metadata": {},
   "outputs": [],
   "source": []
  }
 ],
 "metadata": {
  "kernelspec": {
   "display_name": "Python 3 (ipykernel)",
   "language": "python",
   "name": "python3"
  },
  "language_info": {
   "codemirror_mode": {
    "name": "ipython",
    "version": 3
   },
   "file_extension": ".py",
   "mimetype": "text/x-python",
   "name": "python",
   "nbconvert_exporter": "python",
   "pygments_lexer": "ipython3",
   "version": "3.9.12"
  }
 },
 "nbformat": 4,
 "nbformat_minor": 5
}
