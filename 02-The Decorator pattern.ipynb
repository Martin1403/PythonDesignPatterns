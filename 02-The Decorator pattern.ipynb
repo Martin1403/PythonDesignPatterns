{
 "cells": [
  {
   "cell_type": "markdown",
   "id": "32ec86c0",
   "metadata": {},
   "source": [
    "## The Decorator pattern\n",
    "\n",
    "The Decorator pattern allows us to wrap an object that provides core functionality\n",
    "with other objects that alter this functionality. Any object that uses the decorated\n",
    "object will interact with it in exactly the same way as if it were undecorated (that is,\n",
    "the interface of the decorated object is identical to that of the core object).\n",
    "\n",
    "![](uml/decorator_patern.png)\n",
    "\n",
    "### A Decorator example"
   ]
  },
  {
   "cell_type": "code",
   "execution_count": 1,
   "id": "35365dd7",
   "metadata": {},
   "outputs": [
    {
     "name": "stderr",
     "output_type": "stream",
     "text": [
      "INFO:Logger:add took 1.000s\n"
     ]
    },
    {
     "name": "stdout",
     "output_type": "stream",
     "text": [
      "3\n"
     ]
    }
   ],
   "source": [
    "import logging\n",
    "from typing import Callable, Any\n",
    "from functools import wraps\n",
    "import time\n",
    "\n",
    "class NamedLogger:\n",
    "    def __init__(self, logger_name: str) -> None:\n",
    "        self.logger = logging.getLogger(logger_name)\n",
    "        \n",
    "    def __call__(\n",
    "        self,\n",
    "        function: Callable[..., Any]\n",
    "    ) -> Callable[..., Any]:\n",
    "        \n",
    "        @wraps(function)\n",
    "        def wrapped_function(*args: Any, **kwargs: Any) -> Any:\n",
    "            start = time.perf_counter()\n",
    "            result = function(*args, **kwargs)\n",
    "            end = time.perf_counter()\n",
    "            self.logger.info(\n",
    "                f\"{function.__name__} took {end - start:.3f}s\"\n",
    "            )\n",
    "            return result\n",
    "        return wrapped_function\n",
    "    \n",
    "    \n",
    "logging.basicConfig(level=logging.INFO)\n",
    "    \n",
    "    \n",
    "@NamedLogger('Logger')   \n",
    "def add(x: int, y: int) -> int:\n",
    "    \"\"\"\n",
    "    >>> add.__name__\n",
    "    'add'\n",
    "    \"\"\"\n",
    "    time.sleep(1)\n",
    "    return x + y\n",
    "\n",
    "print(add(1, 2))"
   ]
  },
  {
   "cell_type": "code",
   "execution_count": 2,
   "id": "f4cc59b2",
   "metadata": {},
   "outputs": [
    {
     "name": "stderr",
     "output_type": "stream",
     "text": [
      "[NbConvertApp] Converting notebook 02-The Decorator pattern.ipynb to script\n",
      "[NbConvertApp] Writing 1804 bytes to test.py\n"
     ]
    },
    {
     "name": "stdout",
     "output_type": "stream",
     "text": [
      "\u001b[1m\u001b[32mSuccess: no issues found in 1 source file\u001b[m\n",
      "\n"
     ]
    }
   ],
   "source": [
    "if __name__ == '__main__':        \n",
    "    import doctest\n",
    "    import subprocess\n",
    "    name = \"02-The Decorator pattern\"\n",
    "    doctest.testmod(verbose=False)\n",
    "    subprocess.run(f'jupyter nbconvert --to script --output test \"{name}\"', shell=True)\n",
    "    std_out = subprocess.run('mypy --strict test.py', capture_output=True, shell=True).stdout\n",
    "    print(std_out.decode('ascii'))"
   ]
  },
  {
   "cell_type": "code",
   "execution_count": null,
   "id": "fa7e7ba1",
   "metadata": {},
   "outputs": [],
   "source": []
  }
 ],
 "metadata": {
  "kernelspec": {
   "display_name": "Python 3 (ipykernel)",
   "language": "python",
   "name": "python3"
  },
  "language_info": {
   "codemirror_mode": {
    "name": "ipython",
    "version": 3
   },
   "file_extension": ".py",
   "mimetype": "text/x-python",
   "name": "python",
   "nbconvert_exporter": "python",
   "pygments_lexer": "ipython3",
   "version": "3.11.4"
  }
 },
 "nbformat": 4,
 "nbformat_minor": 5
}
