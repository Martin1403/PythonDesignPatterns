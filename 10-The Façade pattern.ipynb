{
 "cells": [
  {
   "cell_type": "markdown",
   "id": "3c72c7cf",
   "metadata": {},
   "source": [
    "## The Façade pattern\n",
    "\n",
    "The Façade pattern is designed to provide a simple interface to a complex system of\n",
    "components. \n",
    "The Façade pattern is, in many ways, like the Adapter pattern. The primary\n",
    "difference is that a Façade tries to abstract a simpler interface out of a complex one,\n",
    "while an Adapter only tries to map one existing interface to another.\n",
    "\n",
    "\n",
    "![](uml/facade_pattern.png)\n",
    "\n",
    "### A Façade example\n",
    "Combine the two processes to convert `*.uml` files.\n",
    "\n",
    "\n",
    "[PlantUML](https://plantuml.com)\n",
    "\n",
    "\n",
    "[Installation](https://plantuml.com/starting)\n",
    "\n",
    "[classdiagram](https://plantuml.com/class-diagram)"
   ]
  },
  {
   "cell_type": "code",
   "execution_count": 1,
   "id": "101494da",
   "metadata": {},
   "outputs": [],
   "source": [
    "import re\n",
    "from pathlib import Path\n",
    "from typing import Iterator, Tuple\n",
    "\n",
    "class FindUML:\n",
    "    \"\"\"Find uml files in sub directories\n",
    "    \n",
    "    >>> root = Path().absolute()\n",
    "    >>> f = FindUML(root)\n",
    "    >>> list(map(str, next(f.uml_file_iter())))  # doctest: +ELLIPSIS\n",
    "    ['...uml', '...png']\n",
    "    \"\"\"\n",
    "    def __init__(self, base: Path) -> None:\n",
    "        self.base = base\n",
    "        self.start_pattern = re.compile(r\"@startuml *(.*)\")\n",
    "        \n",
    "    def uml_file_iter(self) -> Iterator[tuple[Path, Path]]:\n",
    "        for source in self.base.glob(\"**/*.uml\"):\n",
    "            if any(n.startswith(\".\") for n in source.parts):  # skips .hidden \n",
    "                continue\n",
    "            body = source.read_text()\n",
    "            for output_name in self.start_pattern.findall(body):\n",
    "                if output_name:\n",
    "                    target = source.parent / output_name\n",
    "                else:\n",
    "                    target = source.with_suffix(\".png\")\n",
    "                yield (\n",
    "                    source.relative_to(self.base),\n",
    "                    target.relative_to(self.base)\n",
    "                )\n"
   ]
  },
  {
   "cell_type": "code",
   "execution_count": 11,
   "id": "3251ff52",
   "metadata": {},
   "outputs": [],
   "source": [
    "import subprocess\n",
    "\n",
    "class PlantUML:\n",
    "    \"\"\"Convert *.uml files to png\"\"\"\n",
    "\n",
    "    def __init__(\n",
    "        self, \n",
    "        plantjar: Path = Path(\"uml\") /\"plantuml.jar\",\n",
    "    ) -> None:\n",
    "        self.plantjar = plantjar\n",
    "        \n",
    "    def process(self, source: Path) -> None:\n",
    "#         command = [\n",
    "#             \"java\", \"-jar\",\n",
    "#             str(self.plantjar), \"-progress\",\n",
    "#             str(source)\n",
    "#         ]\n",
    "        command = f\"java -jar {self.plantjar} -progress {source}\"\n",
    "        print(subprocess.run(command, check=True, shell=True))\n"
   ]
  },
  {
   "cell_type": "code",
   "execution_count": 12,
   "id": "e023246b",
   "metadata": {},
   "outputs": [
    {
     "name": "stdout",
     "output_type": "stream",
     "text": [
      "Processing uml/fig.uml -> uml/fig.png\n"
     ]
    },
    {
     "name": "stderr",
     "output_type": "stream",
     "text": [
      "Picked up _JAVA_OPTIONS: -Dawt.useSystemAAFontSettings=on -Dswing.aatext=true\n",
      "[                              ] 0/1"
     ]
    },
    {
     "name": "stdout",
     "output_type": "stream",
     "text": [
      "CompletedProcess(args='java -jar uml/plantuml.jar -progress uml/fig.uml', returncode=0)\n"
     ]
    },
    {
     "name": "stderr",
     "output_type": "stream",
     "text": [
      "\b\b\b\b\b\b\b\b\b\b\b\b\b\b\b\b\b\b\b\b\b\b\b\b\b\b\b\b\b\b\b\b\b\b\b\b                                    \b\b\b\b\b\b\b\b\b\b\b\b\b\b\b\b\b\b\b\b\b\b\b\b\b\b\b\b\b\b\b\b\b\b\b\b[##############################] 1/1"
     ]
    }
   ],
   "source": [
    "class GenerateImages:  # Façade\n",
    "    \"\"\"Combine UML finder and convert Class to\n",
    "    make png images from uml files.\"\"\"\n",
    "    \n",
    "    def __init__(self, base: Path) -> None:\n",
    "        self.finder = FindUML(base)\n",
    "        self.painter = PlantUML()\n",
    "        \n",
    "    def make_all_images(self) -> None:\n",
    "        for source, target in self.finder.uml_file_iter():\n",
    "            if (\n",
    "                not target.exists()\n",
    "                or source.stat().st_mtime > target.stat().st_mtime\n",
    "            ):\n",
    "                print(f\"Processing {source} -> {target}\")\n",
    "                self.painter.process(source)\n",
    "            else:\n",
    "                print(f\"Skipping {source} -> {target}\")\n",
    "                \n",
    "    \n",
    "g = GenerateImages(Path.cwd())\n",
    "g.make_all_images()"
   ]
  },
  {
   "cell_type": "code",
   "execution_count": 33,
   "id": "1c770e03",
   "metadata": {
    "scrolled": false
   },
   "outputs": [
    {
     "name": "stdout",
     "output_type": "stream",
     "text": [
      "\u001b[1m\u001b[92mSuccess: no issues found in 1 source file\u001b[0m\r\n",
      "\n"
     ]
    }
   ],
   "source": [
    "if __name__ == '__main__':        \n",
    "    import doctest\n",
    "    import subprocess\n",
    "    name = \"10-The Façade pattern\"\n",
    "    doctest.testmod(verbose=False)\n",
    "    subprocess.run(f'jupyter nbconvert --to script --output test \"{name}\"', shell=True)\n",
    "    std_out = subprocess.run('mypy --strict test.py', capture_output=True, shell=True).stdout\n",
    "    print(std_out.decode('ascii'))"
   ]
  },
  {
   "cell_type": "code",
   "execution_count": null,
   "id": "4014430e",
   "metadata": {},
   "outputs": [],
   "source": []
  }
 ],
 "metadata": {
  "kernelspec": {
   "display_name": "Python 3 (ipykernel)",
   "language": "python",
   "name": "python3"
  },
  "language_info": {
   "codemirror_mode": {
    "name": "ipython",
    "version": 3
   },
   "file_extension": ".py",
   "mimetype": "text/x-python",
   "name": "python",
   "nbconvert_exporter": "python",
   "pygments_lexer": "ipython3",
   "version": "3.11.4"
  }
 },
 "nbformat": 4,
 "nbformat_minor": 5
}
