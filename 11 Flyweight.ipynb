{
 "cells": [
  {
   "cell_type": "markdown",
   "id": "23bd91dd",
   "metadata": {},
   "source": [
    "## Flyweight\n",
    "\n",
    "A space optimization technique that lets us use less memory\n",
    "by storing externally the data associated with similar objects."
   ]
  },
  {
   "cell_type": "markdown",
   "id": "ca3f541d",
   "metadata": {},
   "source": [
    "### User Names"
   ]
  },
  {
   "cell_type": "code",
   "execution_count": 8,
   "id": "70d189a3",
   "metadata": {},
   "outputs": [
    {
     "name": "stdout",
     "output_type": "stream",
     "text": [
      "jctgtleb jhuiuquy\n"
     ]
    },
    {
     "data": {
      "text/plain": [
       "[0, 1]"
      ]
     },
     "execution_count": 8,
     "metadata": {},
     "output_type": "execute_result"
    }
   ],
   "source": [
    "import string\n",
    "import random\n",
    "\n",
    "class User:\n",
    "    def __init__(self, name):\n",
    "        self.name = name\n",
    "        \n",
    "class User2:\n",
    "    strings = []\n",
    "    \n",
    "    def __init__(self, full_name):\n",
    "        def get_or_add(s):\n",
    "            if s in self.strings:\n",
    "                return self.strings.index(s)\n",
    "            else:\n",
    "                self.strings.append(s)\n",
    "                return len(self.strings) - 1\n",
    "        \n",
    "        self.names = [get_or_add(x)\n",
    "                     for x in full_name.split(' ')]\n",
    "    \n",
    "    def __str__(self):\n",
    "        return ' '.join([self.strings[x] for x in self.names])\n",
    "        \n",
    "    def __repr__(self):\n",
    "        return 'User(' + ' '.join([self.strings[x] for x in self.names]) + ')'\n",
    "        \n",
    "def random_string():\n",
    "    chars = string.ascii_lowercase\n",
    "    return ''.join(\n",
    "        [random.choice(chars) for _ in range(8)]\n",
    "    )\n",
    "\n",
    "users = []\n",
    "first_names = [random_string() for _ in range(100)]\n",
    "last_names = [random_string() for _ in range(100)]\n",
    "\n",
    "for first in first_names:\n",
    "    for last in last_names:\n",
    "        users.append(User2(f'{first} {last}'))\n",
    "        \n",
    "print(users[0])\n",
    "users[0].names"
   ]
  },
  {
   "cell_type": "markdown",
   "id": "74cb5df9",
   "metadata": {},
   "source": [
    "### Text Formatting"
   ]
  },
  {
   "cell_type": "code",
   "execution_count": 13,
   "id": "9d5e032c",
   "metadata": {},
   "outputs": [
    {
     "name": "stdout",
     "output_type": "stream",
     "text": [
      "THIS is a brave NEW world\n"
     ]
    }
   ],
   "source": [
    "class FormattedText:\n",
    "    def __init__(self, plain_text):\n",
    "        self.plain_text = plain_text\n",
    "        self.caps = [False] * len(plain_text)\n",
    "        \n",
    "    def capitalize(self, start, end):\n",
    "        for i in range(start, end):\n",
    "            self.caps[i] = True\n",
    "            \n",
    "    def __str__(self):\n",
    "        result = []\n",
    "        for i in range(len(self.plain_text)):\n",
    "            c = self.plain_text[i]\n",
    "            result.append(\n",
    "                c.upper() if self.caps[i] else c\n",
    "            )\n",
    "        return ''.join(result)    \n",
    "    \n",
    "\n",
    "class BetterFormattedText: # <-Flyweight\n",
    "    def __init__(self, plain_text):\n",
    "        self.plain_text = plain_text\n",
    "        self.formatting = []\n",
    "        \n",
    "    class TextRange:\n",
    "        def __init__(self, start, end, capitalize=False):\n",
    "            self.start = start\n",
    "            self.end = end\n",
    "            self.capitalize = capitalize\n",
    "            \n",
    "        def covers(self, position):\n",
    "            return self.start <= position <= self.end\n",
    "    \n",
    "    def get_range(self, start, end):\n",
    "        range = self.TextRange(start, end)\n",
    "        self.formatting.append(range)\n",
    "        return range\n",
    "        \n",
    "    def __str__(self):\n",
    "        result = []\n",
    "        for i in range(len(self.plain_text)):\n",
    "            c = self.plain_text[i]\n",
    "            for r in self.formatting:\n",
    "                if r.covers(i) and r.capitalize:\n",
    "                    c = c.upper()\n",
    "            result.append(c)\n",
    "        return ''.join(result)\n",
    "    \n",
    "    \n",
    "text = 'This is a brave new world'\n",
    "ft = FormattedText(text)\n",
    "ft.capitalize(10, 15)\n",
    "print(ft)\n",
    "\n",
    "bft = BetterFormattedText(text)\n",
    "bft.get_range(0, 4).capitalize = True\n",
    "bft.get_range(16, 19).capitalize = True\n",
    "print(bft)"
   ]
  },
  {
   "cell_type": "code",
   "execution_count": null,
   "id": "8f695e13",
   "metadata": {},
   "outputs": [],
   "source": []
  }
 ],
 "metadata": {
  "kernelspec": {
   "display_name": "Python 3 (ipykernel)",
   "language": "python",
   "name": "python3"
  },
  "language_info": {
   "codemirror_mode": {
    "name": "ipython",
    "version": 3
   },
   "file_extension": ".py",
   "mimetype": "text/x-python",
   "name": "python",
   "nbconvert_exporter": "python",
   "pygments_lexer": "ipython3",
   "version": "3.11.4"
  }
 },
 "nbformat": 4,
 "nbformat_minor": 5
}
