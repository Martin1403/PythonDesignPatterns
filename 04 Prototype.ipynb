{
 "cells": [
  {
   "cell_type": "markdown",
   "id": "808cec82",
   "metadata": {},
   "source": [
    "## Prototype\n",
    "\n",
    "A partially or fully initialized object that you copy (clone)\n",
    "and make use of it."
   ]
  },
  {
   "cell_type": "code",
   "execution_count": 9,
   "id": "a1b475f7",
   "metadata": {},
   "outputs": [
    {
     "name": "stdout",
     "output_type": "stream",
     "text": [
      "John lives at 123 London Road, London, UK\n",
      "Jane lives at 124 London Road, London, UK\n"
     ]
    }
   ],
   "source": [
    "import copy\n",
    "\n",
    "class Address:\n",
    "    def __init__(self, street_address, city, country):\n",
    "        self.city = city\n",
    "        self.street_address = street_address\n",
    "        self.country = country\n",
    "        \n",
    "    def __str__(self):\n",
    "        return f'{self.street_address}, {self.city}, {self.country}'\n",
    "    \n",
    "    \n",
    "class Person:\n",
    "    def __init__(self, name, address):\n",
    "        self.name = name\n",
    "        self.address = address\n",
    "        \n",
    "    def __str__(self):\n",
    "        return f'{self.name} lives at {self.address}'\n",
    "    \n",
    "john = Person('John', Address('123 London Road', 'London', 'UK'))\n",
    "jane = copy.deepcopy(john)\n",
    "jane.name = 'Jane'\n",
    "jane.address.street_address = '124 London Road'\n",
    "print(john, jane, sep='\\n')"
   ]
  },
  {
   "cell_type": "markdown",
   "id": "cea5f18e",
   "metadata": {},
   "source": [
    "### Prototype Factory"
   ]
  },
  {
   "cell_type": "code",
   "execution_count": 11,
   "id": "1740dfc6",
   "metadata": {},
   "outputs": [
    {
     "name": "stdout",
     "output_type": "stream",
     "text": [
      "John works at 123 East Dr, Suite #101, London\n",
      "Jane works at 123B East Dr, Suite #500, London\n"
     ]
    }
   ],
   "source": [
    "import copy\n",
    "\n",
    "class Address:\n",
    "    def __init__(self, street_address, suite, city):\n",
    "        self.city = city\n",
    "        self.street_address = street_address\n",
    "        self.suite = suite\n",
    "        \n",
    "    def __str__(self):\n",
    "        return f'{self.street_address}, Suite #{self.suite},'\\\n",
    "               f' {self.city}'\n",
    "    \n",
    "    \n",
    "class Employee:\n",
    "    def __init__(self, name, address):\n",
    "        self.name = name\n",
    "        self.address = address\n",
    "        \n",
    "    def __str__(self):\n",
    "        return f'{self.name} works at {self.address}'\n",
    "    \n",
    "    \n",
    "class EmloyeeFactory:\n",
    "    main_office_employee = Employee('', Address('123 East Dr', 0, 'London'))\n",
    "    aux_office_employee = Employee('', Address('123B East Dr', 0, 'London'))\n",
    "    \n",
    "    @staticmethod\n",
    "    def __new_employee(proto, name, suite):\n",
    "        result = copy.deepcopy(proto)\n",
    "        result.name = name\n",
    "        result.address.suite = suite\n",
    "        return result\n",
    "    \n",
    "    @staticmethod\n",
    "    def new_main_office_employee(name, suite):\n",
    "        return EmloyeeFactory.__new_employee(\n",
    "            EmloyeeFactory.main_office_employee,\n",
    "            name, suite\n",
    "        )\n",
    "        \n",
    "    @staticmethod\n",
    "    def new_aux_office_employee(name, suite):\n",
    "        return EmloyeeFactory.__new_employee(\n",
    "                EmloyeeFactory.aux_office_employee,\n",
    "                name, suite\n",
    "            )\n",
    "\n",
    "    \n",
    "john = EmloyeeFactory.new_main_office_employee('John', 101)\n",
    "jane = EmloyeeFactory.new_aux_office_employee('Jane', 500)\n",
    "\n",
    "print(john, jane, sep='\\n')"
   ]
  },
  {
   "cell_type": "code",
   "execution_count": null,
   "id": "f72e848f",
   "metadata": {},
   "outputs": [],
   "source": []
  }
 ],
 "metadata": {
  "kernelspec": {
   "display_name": "Python 3 (ipykernel)",
   "language": "python",
   "name": "python3"
  },
  "language_info": {
   "codemirror_mode": {
    "name": "ipython",
    "version": 3
   },
   "file_extension": ".py",
   "mimetype": "text/x-python",
   "name": "python",
   "nbconvert_exporter": "python",
   "pygments_lexer": "ipython3",
   "version": "3.11.4"
  }
 },
 "nbformat": 4,
 "nbformat_minor": 5
}
