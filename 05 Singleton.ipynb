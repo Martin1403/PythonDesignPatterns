{
 "cells": [
  {
   "cell_type": "markdown",
   "id": "319b352e",
   "metadata": {},
   "source": [
    "## Singleton\n",
    "\n",
    "A component (class) which is instantiated only once."
   ]
  },
  {
   "cell_type": "markdown",
   "id": "1ee59430",
   "metadata": {},
   "source": [
    "### Singleton Allocator\n",
    "\n",
    "But initializer has been called twice for each instance"
   ]
  },
  {
   "cell_type": "code",
   "execution_count": null,
   "id": "5d420e8b",
   "metadata": {},
   "outputs": [],
   "source": [
    "import random\n",
    "\n",
    "class Database:\n",
    "    _instance = None\n",
    "    \n",
    "    def __new__(cls, *args, **kwargs):\n",
    "        if not cls._instance:\n",
    "            cls._instance = super().__new__(cls, *args, **kwargs)\n",
    "\n",
    "        return cls._instance    \n",
    "    \n",
    "    def __init__(self):\n",
    "        print(f'Loading a database from'\\\n",
    "              f' file {random.randint(1, 100)}')\n",
    "        \n",
    "    \n",
    "d1 = Database()\n",
    "d2 = Database()\n",
    "print(d1 is d2)"
   ]
  },
  {
   "cell_type": "markdown",
   "id": "dde08d76",
   "metadata": {},
   "source": [
    "### Singleton Decorator\n",
    "\n",
    "Storing instance in instances dictionary"
   ]
  },
  {
   "cell_type": "code",
   "execution_count": null,
   "id": "344ff073",
   "metadata": {},
   "outputs": [],
   "source": [
    "import random\n",
    "\n",
    "def singleton(class_):\n",
    "    instances = {}\n",
    "    \n",
    "    def get_instance(*args, **kwargs):\n",
    "        if class_ not in instances:\n",
    "            instances[class_] = class_(*args, **kwargs)\n",
    "        \n",
    "        return instances[class_]\n",
    "    return get_instance\n",
    "\n",
    "@singleton\n",
    "class Database:\n",
    "    def __init__(self):\n",
    "        print(f'Loading a database from'\\\n",
    "              f' file {random.randint(1, 100)}')\n",
    "        \n",
    "    \n",
    "d1 = Database()\n",
    "d2 = Database()\n",
    "print(d1 is d2)"
   ]
  },
  {
   "cell_type": "markdown",
   "id": "7fdad341",
   "metadata": {},
   "source": [
    "### Singleton Metaclass"
   ]
  },
  {
   "cell_type": "code",
   "execution_count": null,
   "id": "592ebab3",
   "metadata": {},
   "outputs": [],
   "source": [
    "import random\n",
    "\n",
    "class Singleton(type):\n",
    "    _instances = {}\n",
    "    \n",
    "    def __call__(cls, *args, **kwargs):\n",
    "        if cls not in cls._instances:\n",
    "            cls._instances[cls] = super().__call__(*args, **kwargs)\n",
    "        return cls._instances[cls]\n",
    "\n",
    "\n",
    "class Database(metaclass=Singleton):\n",
    "    def __init__(self):\n",
    "        print(f'Loading a database from'\\\n",
    "              f' file {random.randint(1, 100)}')\n",
    "        \n",
    "    \n",
    "d1 = Database()\n",
    "d2 = Database()\n",
    "print(d1 is d2)"
   ]
  },
  {
   "cell_type": "markdown",
   "id": "f766baf9",
   "metadata": {},
   "source": [
    "### Monostate"
   ]
  },
  {
   "cell_type": "code",
   "execution_count": null,
   "id": "3fa12cd9",
   "metadata": {},
   "outputs": [],
   "source": [
    "class CEO:\n",
    "    __shared_state = {\n",
    "        'name': 'Steve',\n",
    "        'age': 55\n",
    "    }\n",
    "    def __init__(self):\n",
    "        self.__dict__ = self.__shared_state\n",
    "        \n",
    "    def __str__(self):\n",
    "        return f'{self.name} is {self.age} years old'\n",
    "    \n",
    "ceo1 = CEO()\n",
    "print(ceo1)\n",
    "\n",
    "ceo2 = CEO()\n",
    "ceo2.age = 77\n",
    "print(ceo1)\n",
    "print(ceo2)"
   ]
  },
  {
   "cell_type": "code",
   "execution_count": null,
   "id": "3482bfc4",
   "metadata": {},
   "outputs": [],
   "source": [
    "class Monostate:\n",
    "    _shared_state = {}\n",
    "    def __new__(cls, *args, **kwargs):\n",
    "        obj = super(Monostate, cls).__new__(cls, *args, **kwargs)\n",
    "        obj.__dict__ = cls._shared_state\n",
    "        return obj\n",
    "\n",
    "class CFO(Monostate):\n",
    "    def __init__(self): # Be careful with initializer \n",
    "        self.name = ''\n",
    "        self.money_managed = 0\n",
    "        \n",
    "    def __str__(self):\n",
    "        return f'{self.name} manages ${self.money_managed}'\n",
    "    \n",
    "cfo1 = CFO()\n",
    "cfo1.name = 'Sheryl'\n",
    "cfo1.money_managed = 1\n",
    "print(cfo1)\n",
    "\n",
    "cfo2 = CFO() # Initializer rewrites __dict__\n",
    "cfo2.name = 'Ruth'\n",
    "cfo2.money_managed = 10\n",
    "print(cfo1, cfo2, sep='\\n')"
   ]
  },
  {
   "cell_type": "markdown",
   "id": "92710246",
   "metadata": {},
   "source": [
    "### Singleton Testability"
   ]
  },
  {
   "cell_type": "code",
   "execution_count": 21,
   "id": "88c74729",
   "metadata": {},
   "outputs": [
    {
     "name": "stdout",
     "output_type": "stream",
     "text": [
      "True\n",
      "507517171\n"
     ]
    },
    {
     "data": {
      "text/plain": [
       "3"
      ]
     },
     "execution_count": 21,
     "metadata": {},
     "output_type": "execute_result"
    }
   ],
   "source": [
    "class Singleton(type):\n",
    "    _instances = {}\n",
    "    \n",
    "    def __call__(cls, *args, **kwargs):\n",
    "        if cls not in cls._instances:\n",
    "            cls._instances[cls] = super().__call__(*args, **kwargs)\n",
    "        return cls._instances[cls]\n",
    "\n",
    "class Database(metaclass=Singleton):\n",
    "    def __init__(self):\n",
    "        self.population = {}\n",
    "        with open('cities.txt') as f:\n",
    "            lines = f.readlines()\n",
    "            for i in range(0, len(lines), 2):\n",
    "                self.population[lines[i].strip()] = \\\n",
    "                        int(lines[i+1].strip())\n",
    "\n",
    "class DummyDatabase:\n",
    "    population = {\n",
    "        'alpha': 1,\n",
    "        'beta': 2,\n",
    "        'gamma':3,\n",
    "    }\n",
    "                \n",
    "class ConfigurableRecordFinder:\n",
    "    def __init__(self, db):\n",
    "        self.db = db\n",
    "                \n",
    "    def total_population(self, cities):\n",
    "        result = 0\n",
    "        for c in cities:\n",
    "            result += self.db.population[c]\n",
    "        return result\n",
    "    \n",
    "db1 = Database()\n",
    "db2 = Database()\n",
    "print(db1 is db2)\n",
    "\n",
    "print(\n",
    "ConfigurableRecordFinder(db1).total_population(['Tokyo', 'Bratislava'])\n",
    ")\n",
    "\n",
    "db = DummyDatabase()\n",
    "ConfigurableRecordFinder(db).total_population(['alpha', 'beta'])"
   ]
  },
  {
   "cell_type": "code",
   "execution_count": null,
   "id": "a0d4ce19",
   "metadata": {},
   "outputs": [],
   "source": []
  }
 ],
 "metadata": {
  "kernelspec": {
   "display_name": "Python 3 (ipykernel)",
   "language": "python",
   "name": "python3"
  },
  "language_info": {
   "codemirror_mode": {
    "name": "ipython",
    "version": 3
   },
   "file_extension": ".py",
   "mimetype": "text/x-python",
   "name": "python",
   "nbconvert_exporter": "python",
   "pygments_lexer": "ipython3",
   "version": "3.11.4"
  }
 },
 "nbformat": 4,
 "nbformat_minor": 5
}
