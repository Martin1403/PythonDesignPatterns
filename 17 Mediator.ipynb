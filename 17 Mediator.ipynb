{
 "cells": [
  {
   "cell_type": "markdown",
   "id": "a3e47d79",
   "metadata": {},
   "source": [
    "## Mediator\n",
    "\n",
    "A component that facilitates communication between other components without them necessarily being aware of each other or having direct (reference) \n",
    "access to each other."
   ]
  },
  {
   "cell_type": "code",
   "execution_count": 2,
   "id": "9ab927fb",
   "metadata": {},
   "outputs": [
    {
     "name": "stdout",
     "output_type": "stream",
     "text": [
      "[John's chat session] room: Jane joins the chat\n",
      "[Jane's chat session] John: hi room!\n",
      "[John's chat session] Jane: oh, hey john\n",
      "[John's chat session] room: Simon joins the chat\n",
      "[Jane's chat session] room: Simon joins the chat\n",
      "[John's chat session] Simon: hi everyone\n",
      "[Jane's chat session] Simon: hi everyone\n",
      "[Simon's chat session] Jane: glad you could join us!\n"
     ]
    }
   ],
   "source": [
    "class Person:\n",
    "    def __init__(self, name):\n",
    "        self.name = name\n",
    "        self.chat_log = []\n",
    "        self.room = None\n",
    "        \n",
    "    def receive(self, sender, message):\n",
    "        s = f\"{sender}: {message}\"\n",
    "        print(f\"[{self.name}'s chat session] {s}\")\n",
    "        self.chat_log.append(s)\n",
    "        \n",
    "    def private_message(self, who, message):\n",
    "        self.room.message(self.name, who, message)\n",
    "        \n",
    "    def say(self, message):\n",
    "        self.room.broadcast(self.name, message)\n",
    "        \n",
    "    \n",
    "class CharRoom: # <- mediator\n",
    "    def __init__(self):\n",
    "        self.people = []\n",
    "        \n",
    "    def join(self, person):\n",
    "        join_msg = f\"{person.name} joins the chat\"\n",
    "        self.broadcast(\"room\", join_msg)\n",
    "        person.room = self\n",
    "        self.people.append(person)\n",
    "    \n",
    "    def broadcast(self, source, message):\n",
    "        for p in self.people:\n",
    "            if p.name != source:\n",
    "                p.receive(source, message)\n",
    "            \n",
    "    def message(self, source, destination, message):\n",
    "        for p in self.people:\n",
    "            if p.name == destination:\n",
    "                p.receive(source, message)\n",
    "                \n",
    "\n",
    "room = CharRoom()\n",
    "\n",
    "john = Person('John')\n",
    "jane = Person('Jane')\n",
    "room.join(john)\n",
    "room.join(jane)\n",
    "\n",
    "john.say('hi room!')\n",
    "jane.say('oh, hey john')\n",
    "\n",
    "simon = Person('Simon')\n",
    "room.join(simon)\n",
    "simon.say('hi everyone')\n",
    "\n",
    "jane.private_message('Simon', 'glad you could join us!')"
   ]
  },
  {
   "cell_type": "markdown",
   "id": "c2326c05",
   "metadata": {},
   "source": [
    "### Mediator with Events"
   ]
  },
  {
   "cell_type": "code",
   "execution_count": 3,
   "id": "ed79bf0e",
   "metadata": {},
   "outputs": [
    {
     "name": "stdout",
     "output_type": "stream",
     "text": [
      "Coach says: well done, Sam!\n",
      "Coach says: well done, Sam!\n"
     ]
    }
   ],
   "source": [
    "class Event(list):\n",
    "    def __call__(self, *args, **kwargs):\n",
    "        for item in self:\n",
    "            item(*args, **kwargs)\n",
    "            \n",
    "class Game:\n",
    "    def __init__(self):\n",
    "        self.events = Event()\n",
    "        \n",
    "    def fire(self, args):\n",
    "        self.events(args)\n",
    "        \n",
    "class GoalScoredInfo:\n",
    "    def __init__(self, who_scored, goals_scored):\n",
    "        self.goals_scored = goals_scored\n",
    "        self.who_scored = who_scored\n",
    "        \n",
    "class Player:\n",
    "    def __init__(self, name, game):\n",
    "        self.game = game\n",
    "        self.name = name\n",
    "        self.goals_scored = 0\n",
    "        \n",
    "    def score(self):\n",
    "        self.goals_scored += 1\n",
    "        args = GoalScoredInfo(self.name, self.goals_scored)\n",
    "        self.game.fire(args)\n",
    "        \n",
    "class Coach:\n",
    "    def __init__(self, game):\n",
    "        game.events.append(self.celebrate_goal)\n",
    "        \n",
    "    def celebrate_goal(self, args):\n",
    "        if isinstance(args, GoalScoredInfo) and \\\n",
    "            args.goals_scored < 3:\n",
    "            print(f\"Coach says: well done, {args.who_scored}!\")\n",
    "            \n",
    "game = Game()\n",
    "player = Player(\"Sam\", game)\n",
    "coach = Coach(game)\n",
    "player.score()\n",
    "player.score()\n",
    "player.score()"
   ]
  },
  {
   "cell_type": "code",
   "execution_count": null,
   "id": "9897b4e8",
   "metadata": {},
   "outputs": [],
   "source": []
  }
 ],
 "metadata": {
  "kernelspec": {
   "display_name": "Python 3 (ipykernel)",
   "language": "python",
   "name": "python3"
  },
  "language_info": {
   "codemirror_mode": {
    "name": "ipython",
    "version": 3
   },
   "file_extension": ".py",
   "mimetype": "text/x-python",
   "name": "python",
   "nbconvert_exporter": "python",
   "pygments_lexer": "ipython3",
   "version": "3.11.4"
  }
 },
 "nbformat": 4,
 "nbformat_minor": 5
}
