{
 "cells": [
  {
   "cell_type": "markdown",
   "id": "0de14550",
   "metadata": {},
   "source": [
    "## Strategy\n",
    "\n",
    "Enables the exact behavior of a \n",
    "system to be selected at run-time"
   ]
  },
  {
   "cell_type": "code",
   "execution_count": 2,
   "id": "b575f953",
   "metadata": {},
   "outputs": [
    {
     "name": "stdout",
     "output_type": "stream",
     "text": [
      " * foo\n",
      " * bar\n",
      " * baz\n",
      "\n",
      "<ul>\n",
      "    <li>foo</li>\n",
      "    <li>bar</li>\n",
      "    <li>baz</li>\n",
      "</ul>\n",
      "\n"
     ]
    }
   ],
   "source": [
    "import abc\n",
    "import enum\n",
    "\n",
    "class ListStrategy(abc.ABC):\n",
    "    def start(self, buffer): ...\n",
    "    \n",
    "    def end(self, buffer): ...\n",
    "        \n",
    "    def add_list_item(self, buffer, item): ...\n",
    "        \n",
    "        \n",
    "class MarkdownListStrategy(ListStrategy):\n",
    "    def add_list_item(self, buffer, item):\n",
    "        buffer.append(f\" * {item}\\n\")\n",
    "        \n",
    "        \n",
    "class HtmlListStrategy(ListStrategy):\n",
    "    def start(self, buffer):\n",
    "        buffer.append(\"<ul>\\n\")\n",
    "    \n",
    "    def end(self, buffer):\n",
    "        buffer.append(\"</ul>\\n\")\n",
    "        \n",
    "    def add_list_item(self, buffer, item):\n",
    "        buffer.append(f\"    <li>{item}</li>\\n\")\n",
    "    \n",
    "\n",
    "class OutputFormat(enum.Enum):\n",
    "    MARKDOWN = enum.auto()\n",
    "    HTML = enum.auto()\n",
    "\n",
    "\n",
    "class TextProcessor:\n",
    "    def __init__(self, list_strategy=HtmlListStrategy()):\n",
    "        self.list_strategy = list_strategy\n",
    "        self.buffer = []\n",
    "        \n",
    "    def append_list(self, items):\n",
    "        ls = self.list_strategy\n",
    "        ls.start(self.buffer)\n",
    "        for item in items:\n",
    "            ls.add_list_item(self.buffer, item)\n",
    "        ls.end(self.buffer)\n",
    "        \n",
    "    def set_output_format(self, format):\n",
    "        if format == OutputFormat.MARKDOWN:\n",
    "            self.list_strategy = MarkdownListStrategy()\n",
    "        elif format == OutputFormat.HTML:\n",
    "            self.list_strategy = HtmlListStrategy()\n",
    "            \n",
    "    def clear(self):\n",
    "        self.buffer.clear()\n",
    "        \n",
    "    def __str__(self):\n",
    "        return \"\".join(self.buffer)\n",
    "    \n",
    "\n",
    "items = [\"foo\", \"bar\", \"baz\"]\n",
    "tp = TextProcessor()\n",
    "tp.set_output_format(OutputFormat.MARKDOWN)\n",
    "tp.append_list(items)\n",
    "print(tp)\n",
    "\n",
    "tp.set_output_format(OutputFormat.HTML)\n",
    "tp.clear()\n",
    "tp.append_list(items)\n",
    "print(tp)\n"
   ]
  },
  {
   "cell_type": "code",
   "execution_count": null,
   "id": "9a5ad41a",
   "metadata": {},
   "outputs": [],
   "source": []
  }
 ],
 "metadata": {
  "kernelspec": {
   "display_name": "Python 3 (ipykernel)",
   "language": "python",
   "name": "python3"
  },
  "language_info": {
   "codemirror_mode": {
    "name": "ipython",
    "version": 3
   },
   "file_extension": ".py",
   "mimetype": "text/x-python",
   "name": "python",
   "nbconvert_exporter": "python",
   "pygments_lexer": "ipython3",
   "version": "3.11.4"
  }
 },
 "nbformat": 4,
 "nbformat_minor": 5
}
