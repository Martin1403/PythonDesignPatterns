{
 "cells": [
  {
   "cell_type": "markdown",
   "id": "8b734e04",
   "metadata": {},
   "source": [
    "## Interpreter\n",
    "\n",
    "A component that processes structured text data. Does so by turning it into\n",
    "separate lexical tokens (lexing) and then interpreting sequences of said\n",
    "tokens (parsing)."
   ]
  },
  {
   "cell_type": "markdown",
   "id": "3e062947",
   "metadata": {},
   "source": [
    "### Lexing"
   ]
  },
  {
   "cell_type": "code",
   "execution_count": 12,
   "id": "85cd98ad",
   "metadata": {},
   "outputs": [
    {
     "name": "stdout",
     "output_type": "stream",
     "text": [
      "`(` `13` `+` `4` `)` `-` `(` `12` `+` `1` `)`\n"
     ]
    }
   ],
   "source": [
    "from enum import Enum, auto\n",
    "\n",
    "class Token:\n",
    "    class Type(Enum):\n",
    "        INTEGER = auto()\n",
    "        PLUS = auto()\n",
    "        MINUS = auto()\n",
    "        LPAREN = auto()\n",
    "        RPAREN = auto()\n",
    "        \n",
    "    def __init__(self, type, text):\n",
    "        self.type = type\n",
    "        self.text = text\n",
    "        \n",
    "    def __str__(self):\n",
    "        return f'`{self.text}`'\n",
    "    \n",
    "def lex(input):\n",
    "    result = []\n",
    "    \n",
    "    i = 0\n",
    "    while i < len(input):\n",
    "        if input[i] == '+':\n",
    "            result.append(Token(Token.Type.PLUS, '+'))\n",
    "        elif input[i] == '-':\n",
    "            result.append(Token(Token.Type.MINUS, '-'))\n",
    "        elif input[i] == '(':\n",
    "            result.append(Token(Token.Type.LPAREN, '('))\n",
    "        elif input[i] == ')':\n",
    "            result.append(Token(Token.Type.RPAREN, ')'))    \n",
    "        else:\n",
    "            digits = [input[i]]\n",
    "            for j in range(i + 1, len(input)):\n",
    "                if input[j].isdigit():\n",
    "                    digits.append(input[j])\n",
    "                    i += 1\n",
    "                else:\n",
    "                    result.append(Token(Token.Type.INTEGER, \n",
    "                                        ''.join(digits)))\n",
    "                    break\n",
    "        i += 1\n",
    "        \n",
    "    return result\n",
    "\n",
    "\n",
    "def calc(input):\n",
    "    tokens = lex(input)\n",
    "    print(' '.join(map(str, tokens)))\n",
    "\n",
    "calc('(13+4)-(12+1)')"
   ]
  },
  {
   "cell_type": "markdown",
   "id": "15ea36b1",
   "metadata": {},
   "source": [
    "### Parsing"
   ]
  },
  {
   "cell_type": "code",
   "execution_count": 15,
   "id": "95aba1a5",
   "metadata": {},
   "outputs": [
    {
     "name": "stdout",
     "output_type": "stream",
     "text": [
      "`(` `13` `+` `4` `)` `-` `(` `12` `+` `1` `)`\n",
      "(13+4)-(12+1) = 4\n"
     ]
    }
   ],
   "source": [
    "class Integer:\n",
    "    def __init__(self, value):\n",
    "        self.value = value\n",
    "        \n",
    "class BinaryOperation:\n",
    "    class Type(Enum):\n",
    "        ADDITION = auto()\n",
    "        SUBTRACTION = auto()\n",
    "        \n",
    "    def __init__(self):\n",
    "        self.type = None\n",
    "        self.left = None\n",
    "        self.right = None\n",
    "        \n",
    "    @property\n",
    "    def value(self):\n",
    "        if self.type == self.Type.ADDITION:\n",
    "            return self.left.value + self.right.value\n",
    "        else:\n",
    "            return self.left.value - self.right.value\n",
    "        \n",
    "def parse(tokens):\n",
    "    result = BinaryOperation()\n",
    "    have_lhs = False\n",
    "    i = 0\n",
    "    while i < len(tokens):\n",
    "        token = tokens[i]\n",
    "\n",
    "        if token.type == Token.Type.INTEGER:\n",
    "            integer = Integer(int(token.text))\n",
    "            if not have_lhs:\n",
    "                result.left = integer\n",
    "                have_lhs = True\n",
    "            else:\n",
    "                result.right = integer\n",
    "        elif token.type == Token.Type.PLUS:\n",
    "            result.type = BinaryOperation.Type.ADDITION\n",
    "        elif token.type == Token.Type.MINUS:\n",
    "            result.type = BinaryOperation.Type.SUBTRACTION\n",
    "        elif token.type == Token.Type.LPAREN:  # note: no if for RPAREN\n",
    "            j = i\n",
    "            while j < len(tokens):\n",
    "                if tokens[j].type == Token.Type.RPAREN:\n",
    "                    break\n",
    "                j += 1\n",
    "            # preprocess subexpression\n",
    "            subexpression = tokens[i + 1:j]\n",
    "            element = parse(subexpression)\n",
    "            if not have_lhs:\n",
    "                result.left = element\n",
    "                have_lhs = True\n",
    "            else:\n",
    "                result.right = element\n",
    "            i = j  # advance\n",
    "        i += 1\n",
    "    return result\n",
    "\n",
    "\n",
    "def calc(input):\n",
    "    tokens = lex(input)\n",
    "    print(' '.join(map(str, tokens)))\n",
    "    \n",
    "    parsed = parse(tokens)\n",
    "    print(f'{input} = {parsed.value}')\n",
    "\n",
    "calc('(13+4)-(12+1)')"
   ]
  },
  {
   "cell_type": "code",
   "execution_count": null,
   "id": "21a016d5",
   "metadata": {},
   "outputs": [],
   "source": []
  }
 ],
 "metadata": {
  "kernelspec": {
   "display_name": "Python 3 (ipykernel)",
   "language": "python",
   "name": "python3"
  },
  "language_info": {
   "codemirror_mode": {
    "name": "ipython",
    "version": 3
   },
   "file_extension": ".py",
   "mimetype": "text/x-python",
   "name": "python",
   "nbconvert_exporter": "python",
   "pygments_lexer": "ipython3",
   "version": "3.11.4"
  }
 },
 "nbformat": 4,
 "nbformat_minor": 5
}
