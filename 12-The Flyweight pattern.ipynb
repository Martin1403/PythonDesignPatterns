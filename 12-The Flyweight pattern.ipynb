{
 "cells": [
  {
   "cell_type": "markdown",
   "id": "81787e85",
   "metadata": {},
   "source": [
    "## The Flyweight pattern\n",
    "\n",
    "The Flyweight pattern is a memory optimization pattern.\n",
    "The Flyweight pattern ensures that objects that share a state can use the same\n",
    "memory for their shared state.\n",
    "Each Flyweight object has no specific state of its own.\n",
    "Any time it needs to perform\n",
    "an operation on SpecificState, that state needs to be passed into the Flyweight by\n",
    "the calling code as an argument value.\n",
    "\n",
    "\n",
    "![](uml/flyweight_pattern.png)\n",
    "\n",
    "\n",
    "\n",
    "### A Flyweight example\n",
    "\n",
    "534"
   ]
  },
  {
   "cell_type": "code",
   "execution_count": null,
   "id": "5b48f64e",
   "metadata": {},
   "outputs": [],
   "source": []
  },
  {
   "cell_type": "code",
   "execution_count": null,
   "id": "ba713d97",
   "metadata": {},
   "outputs": [],
   "source": []
  },
  {
   "cell_type": "code",
   "execution_count": null,
   "id": "ac3347cb",
   "metadata": {},
   "outputs": [],
   "source": []
  },
  {
   "cell_type": "code",
   "execution_count": null,
   "id": "26d5b059",
   "metadata": {},
   "outputs": [],
   "source": []
  },
  {
   "cell_type": "code",
   "execution_count": 1,
   "id": "1c770e03",
   "metadata": {
    "scrolled": false
   },
   "outputs": [
    {
     "name": "stdout",
     "output_type": "stream",
     "text": [
      "\u001b[1m\u001b[92mSuccess: no issues found in 1 source file\u001b[0m\r\n",
      "\n"
     ]
    }
   ],
   "source": [
    "if __name__ == '__main__':        \n",
    "    import doctest\n",
    "    import subprocess\n",
    "    name = \"12-The Flyweight pattern\"\n",
    "    doctest.testmod(verbose=False)\n",
    "    subprocess.run(f'jupyter nbconvert --to script --output test \"{name}\"', shell=True)\n",
    "    std_out = subprocess.run('mypy --strict test.py', capture_output=True, shell=True).stdout\n",
    "    print(std_out.decode('ascii'))"
   ]
  },
  {
   "cell_type": "code",
   "execution_count": null,
   "id": "4014430e",
   "metadata": {},
   "outputs": [],
   "source": []
  }
 ],
 "metadata": {
  "kernelspec": {
   "display_name": "Python 3 (ipykernel)",
   "language": "python",
   "name": "python3"
  },
  "language_info": {
   "codemirror_mode": {
    "name": "ipython",
    "version": 3
   },
   "file_extension": ".py",
   "mimetype": "text/x-python",
   "name": "python",
   "nbconvert_exporter": "python",
   "pygments_lexer": "ipython3",
   "version": "3.11.4"
  }
 },
 "nbformat": 4,
 "nbformat_minor": 5
}
