{
 "cells": [
  {
   "cell_type": "markdown",
   "id": "5becf03c",
   "metadata": {},
   "source": [
    "## The Factory pattern\n",
    "\n",
    "\n",
    "\n",
    "### A fluent CardFactory class.\n",
    "The `rank()` method updates the state of the constructor, and the `suit()` method\n",
    "actually creates the final Card object."
   ]
  },
  {
   "cell_type": "code",
   "execution_count": 1,
   "id": "6f5d18c0",
   "metadata": {},
   "outputs": [
    {
     "data": {
      "text/plain": [
       "[AceCard(suit=<Suit.Club: '♣'>, rank='A'),\n",
       " AceCard(suit=<Suit.Diamond: '♦'>, rank='A'),\n",
       " AceCard(suit=<Suit.Heart: '♥'>, rank='A'),\n",
       " AceCard(suit=<Suit.Spade: '♠'>, rank='A'),\n",
       " Card(suit=<Suit.Club: '♣'>, rank='2'),\n",
       " Card(suit=<Suit.Diamond: '♦'>, rank='2'),\n",
       " Card(suit=<Suit.Heart: '♥'>, rank='2'),\n",
       " Card(suit=<Suit.Spade: '♠'>, rank='2'),\n",
       " Card(suit=<Suit.Club: '♣'>, rank='3'),\n",
       " Card(suit=<Suit.Diamond: '♦'>, rank='3')]"
      ]
     },
     "execution_count": 1,
     "metadata": {},
     "output_type": "execute_result"
    }
   ],
   "source": [
    "from typing import Tuple\n",
    "from enum import Enum\n",
    "from typing import cast, Any\n",
    "\n",
    "\n",
    "class Suit(str, Enum):\n",
    "    \"\"\"\n",
    "    >>> Suit.Heart\n",
    "    <Suit.Heart: '♥'>\n",
    "    \"\"\"\n",
    "    Club = \"♣\"\n",
    "    Diamond = \"♦\"\n",
    "    Heart = \"♥\"\n",
    "    Spade = \"♠\"\n",
    "\n",
    "\n",
    "class Card:\n",
    "    \"\"\"\n",
    "    >>> str(Card('5', Suit.Spade))\n",
    "    '5♠'\n",
    "    >>> repr(Card('5', Suit.Spade))\n",
    "    \"Card(suit=<Suit.Spade: '♠'>, rank='5')\"\n",
    "    \"\"\"\n",
    "    def __init__(self, rank: str, suit: Suit) -> None:\n",
    "        self.suit = suit\n",
    "        self.rank = rank\n",
    "        self.hard, self.soft = self._points()\n",
    "        \n",
    "    def _points(self) -> Tuple[int, int]:\n",
    "        return int(self.rank), int(self.rank)\n",
    "    \n",
    "    def __repr__(self) -> str:\n",
    "        return f\"{type(self).__name__}(suit={self.suit!r}, rank={self.rank!r})\"\n",
    "    \n",
    "    def __str__(self) -> str:\n",
    "        return f\"{self.rank}{self.suit.value}\"\n",
    "    \n",
    "    \n",
    "class AceCard(Card):\n",
    "    \"\"\"\n",
    "    >>> str(AceCard(1, Suit.Heart))\n",
    "    '1♥'\n",
    "    \"\"\"\n",
    "    def _points(self) -> Tuple[int, int]:\n",
    "        return 1, 11\n",
    "    \n",
    "\n",
    "class FaceCard(Card):\n",
    "    \"\"\"\n",
    "    >>> str(FaceCard(13, Suit.Diamond))\n",
    "    '13♦'\n",
    "    \"\"\"\n",
    "    def _points(self) -> Tuple[int, int]:\n",
    "        return 10, 10\n",
    "    \n",
    "    \n",
    "class CardFactory:\n",
    "    \"\"\"\n",
    "    >>> cf = CardFactory()\n",
    "    >>> cf.rank(11).suit(Suit.Diamond)\n",
    "    FaceCard(suit=<Suit.Diamond: '♦'>, rank='J')\n",
    "    \"\"\"\n",
    "    def rank(self, rank: int) -> \"CardFactory\":\n",
    "        self.class_, self.rank_str = {\n",
    "            1: (AceCard, \"A\"),\n",
    "            11: (FaceCard, \"J\"),\n",
    "            12: (FaceCard, \"Q\"),\n",
    "            13: (FaceCard, \"K\"),\n",
    "        }.get(rank, (Card, str(rank)))\n",
    "        return self\n",
    "    \n",
    "    def suit(self, suit: Suit) -> Card:\n",
    "        return self.class_(self.rank_str, suit)\n",
    "    \n",
    "    \n",
    "card = CardFactory()\n",
    "deck = [\n",
    "    card.rank(r).suit(s)\n",
    "    for r in range(1, 14)\n",
    "    for s in Suit\n",
    "]\n",
    "deck[: 10]"
   ]
  },
  {
   "cell_type": "code",
   "execution_count": 2,
   "id": "529e11da",
   "metadata": {
    "scrolled": true
   },
   "outputs": [
    {
     "name": "stderr",
     "output_type": "stream",
     "text": [
      "[NbConvertApp] Converting notebook 11-The Factory pattern.ipynb to script\n",
      "[NbConvertApp] Writing 2411 bytes to test.py\n"
     ]
    },
    {
     "name": "stdout",
     "output_type": "stream",
     "text": [
      "\u001b[1m\u001b[32mSuccess: no issues found in 1 source file\u001b[m\n",
      "\n"
     ]
    }
   ],
   "source": [
    "if __name__ == '__main__':        \n",
    "    import doctest\n",
    "    import subprocess\n",
    "    name = '11-The Factory pattern'\n",
    "    doctest.testmod(verbose=False)\n",
    "    subprocess.run(f'jupyter nbconvert --to script --output test \"{name}\"', shell=True)\n",
    "    std_out = subprocess.run('mypy --strict test.py', capture_output=True, shell=True).stdout\n",
    "    print(std_out.decode('ascii'))"
   ]
  }
 ],
 "metadata": {
  "kernelspec": {
   "display_name": "Python 3 (ipykernel)",
   "language": "python",
   "name": "python3"
  },
  "language_info": {
   "codemirror_mode": {
    "name": "ipython",
    "version": 3
   },
   "file_extension": ".py",
   "mimetype": "text/x-python",
   "name": "python",
   "nbconvert_exporter": "python",
   "pygments_lexer": "ipython3",
   "version": "3.11.4"
  }
 },
 "nbformat": 4,
 "nbformat_minor": 5
}
