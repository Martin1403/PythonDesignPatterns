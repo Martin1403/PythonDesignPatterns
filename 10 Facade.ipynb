{
 "cells": [
  {
   "cell_type": "markdown",
   "id": "a8b51ad1",
   "metadata": {},
   "source": [
    "## Facade\n",
    "\n",
    "Provides a simple, easy to understand/user interface over a large\n",
    "and sophisticated body of code"
   ]
  },
  {
   "cell_type": "code",
   "execution_count": 10,
   "id": "fdf88083",
   "metadata": {},
   "outputs": [
    {
     "data": {
      "text/plain": [
       "' '"
      ]
     },
     "execution_count": 10,
     "metadata": {},
     "output_type": "execute_result"
    }
   ],
   "source": [
    "class Buffer:\n",
    "    def __init__(self, width=30, height=20):\n",
    "        self.width = width\n",
    "        self.height = height\n",
    "        self.buffer = [' '] * (width * height)\n",
    "        \n",
    "    def __getitem__(self, item):\n",
    "        return self.buffer.__getitem__(item)\n",
    "        \n",
    "    def write(self, text):\n",
    "        self.buffer += text\n",
    "        \n",
    "class Viewport:\n",
    "    def __init__(self, buffer=Buffer()):\n",
    "        self.buffer = buffer\n",
    "        self.offset = 0\n",
    "        \n",
    "    def get_char_at(self, index):\n",
    "        return self.buffer[index + self.offset]\n",
    "    \n",
    "    def append(self, text):\n",
    "        self.buffer.write(text)\n",
    "        \n",
    "class Console: # <-Facade\n",
    "    def __init__(self):\n",
    "        b = Buffer()\n",
    "        self.current_viewport = Viewport(b)\n",
    "        self.buffers = [b]\n",
    "        self.viewports = [self.current_viewport]\n",
    "        \n",
    "    def write(self, text):\n",
    "        self.current_viewport.buffer.write(text)\n",
    "        \n",
    "    def get_char_at(self, index):\n",
    "        return self.current_viewport.get_char_at(index)\n",
    "    \n",
    "    \n",
    "c = Console()\n",
    "c.write('hello')\n",
    "c.get_char_at(10)"
   ]
  },
  {
   "cell_type": "code",
   "execution_count": null,
   "id": "dce9e7ee",
   "metadata": {},
   "outputs": [],
   "source": []
  }
 ],
 "metadata": {
  "kernelspec": {
   "display_name": "Python 3 (ipykernel)",
   "language": "python",
   "name": "python3"
  },
  "language_info": {
   "codemirror_mode": {
    "name": "ipython",
    "version": 3
   },
   "file_extension": ".py",
   "mimetype": "text/x-python",
   "name": "python",
   "nbconvert_exporter": "python",
   "pygments_lexer": "ipython3",
   "version": "3.11.4"
  }
 },
 "nbformat": 4,
 "nbformat_minor": 5
}
