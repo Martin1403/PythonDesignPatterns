{
 "cells": [
  {
   "cell_type": "markdown",
   "id": "c8416667",
   "metadata": {},
   "source": [
    "## Builder pattern\n",
    "\n",
    "When piecewise object construction is complicated\n",
    "provide an API for doing it succinctly.\n",
    "\n",
    "### An example builder for nesting html elements\n",
    "```tex\n",
    "<ul>\n",
    "  <li>\n",
    "    hello\n",
    "  </li>\n",
    "  <li>\n",
    "    world\n",
    "  </li>\n",
    "</ul>\n",
    "\n",
    "```"
   ]
  },
  {
   "cell_type": "code",
   "execution_count": 47,
   "id": "ba713d97",
   "metadata": {},
   "outputs": [
    {
     "name": "stdout",
     "output_type": "stream",
     "text": [
      "<ul>\n",
      "  <li>\n",
      "    hello\n",
      "  </li>\n",
      "  <li>\n",
      "    world\n",
      "  </li>\n",
      "</ul>\n"
     ]
    }
   ],
   "source": [
    "class HtmlElement:\n",
    "    indent_size: int = 2\n",
    "        \n",
    "    def __init__(self, name: str = '', text: str = '') -> None:\n",
    "        self.text = text\n",
    "        self.name = name\n",
    "        self.elements: list[HtmlElement] = []\n",
    "    \n",
    "    def __str(self, indent: int) -> str:\n",
    "        lines: list[str] = []\n",
    "        i = ' ' * (indent * self.indent_size)\n",
    "        lines.append(f'{i}<{self.name}>')\n",
    "\n",
    "        if self.text:\n",
    "            i1 = ' ' * ((indent + 1) * self.indent_size)\n",
    "            lines.append(f'{i1}{self.text}')\n",
    "\n",
    "        for e in self.elements:\n",
    "            lines.append(e.__str(indent + 1))\n",
    "\n",
    "        lines.append(f'{i}</{self.name}>')\n",
    "        return '\\n'.join(lines)\n",
    "    \n",
    "    def __str__(self) -> str:\n",
    "        return self.__str(0)\n",
    "    \n",
    "    \n",
    "class HtmlBuilder:\n",
    "    def __init__(self, root_name: str) -> None:\n",
    "        self.root_name = root_name\n",
    "        self.__root: HtmlElement = HtmlElement(root_name)\n",
    "        \n",
    "    def add_child(self, child_name: str, child_text: str) -> HtmlBuilder:\n",
    "        \"\"\"Fluent interface\"\"\"\n",
    "        self.__root.elements.append(\n",
    "            HtmlElement(child_name, child_text)\n",
    "        )\n",
    "        return self\n",
    "        \n",
    "    def __str__(self) -> str:\n",
    "        return str(self.__root)\n",
    "    \n",
    "    @staticmethod\n",
    "    def create(name: str) -> HtmlBuilder:\n",
    "        \"\"\"Expose static `create()` to avoid confusion\n",
    "        with a HtmlElement __init__()\n",
    "        \n",
    "        >>> str(HtmlBuilder.create('ul'))\n",
    "        '<ul>\\\\n</ul>'\n",
    "        \"\"\"\n",
    "        return HtmlBuilder(name)\n",
    "    \n",
    "    \n",
    "builder = HtmlBuilder.create('ul')\n",
    "\n",
    "# Nesting html elements by using fluent interface\n",
    "builder.add_child('li', 'hello')\\\n",
    "       .add_child('li', 'world') \n",
    "\n",
    "print(builder)"
   ]
  },
  {
   "cell_type": "code",
   "execution_count": 51,
   "id": "1c770e03",
   "metadata": {
    "scrolled": false
   },
   "outputs": [
    {
     "name": "stdout",
     "output_type": "stream",
     "text": [
      "\u001b[1m\u001b[92mSuccess: no issues found in 1 source file\u001b[0m\r\n",
      "\n"
     ]
    }
   ],
   "source": [
    "if __name__ == '__main__':        \n",
    "    import doctest\n",
    "    import subprocess\n",
    "    name = \"13-Builder pattern Fluent Interface\"\n",
    "    doctest.testmod(verbose=False)\n",
    "    subprocess.run(f'jupyter nbconvert --to script --output test \"{name}\"', shell=True)\n",
    "    std_out = subprocess.run('mypy --strict test.py', capture_output=True, shell=True).stdout\n",
    "    print(std_out.decode('ascii'))"
   ]
  },
  {
   "cell_type": "code",
   "execution_count": null,
   "id": "4014430e",
   "metadata": {},
   "outputs": [],
   "source": []
  }
 ],
 "metadata": {
  "kernelspec": {
   "display_name": "Python 3 (ipykernel)",
   "language": "python",
   "name": "python3"
  },
  "language_info": {
   "codemirror_mode": {
    "name": "ipython",
    "version": 3
   },
   "file_extension": ".py",
   "mimetype": "text/x-python",
   "name": "python",
   "nbconvert_exporter": "python",
   "pygments_lexer": "ipython3",
   "version": "3.11.4"
  }
 },
 "nbformat": 4,
 "nbformat_minor": 5
}
