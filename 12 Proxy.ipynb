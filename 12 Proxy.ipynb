{
 "cells": [
  {
   "cell_type": "markdown",
   "id": "a35e16c4",
   "metadata": {},
   "source": [
    "## Proxy\n",
    "\n",
    "A class that functions as an interface to a particular resource. \n",
    "That resource may be remote, expensive to construct,\n",
    "or may require logging or some other added functionality."
   ]
  },
  {
   "cell_type": "markdown",
   "id": "5252517b",
   "metadata": {},
   "source": [
    "### Protection Proxy"
   ]
  },
  {
   "cell_type": "code",
   "execution_count": 4,
   "id": "d38d15e6",
   "metadata": {},
   "outputs": [
    {
     "name": "stdout",
     "output_type": "stream",
     "text": [
      "Driver too young\n"
     ]
    }
   ],
   "source": [
    "class Car:\n",
    "    def __init__(self, driver):\n",
    "        self.driver = driver\n",
    "        \n",
    "    def drive(self):\n",
    "        print(f'Car is being driven by {self.driver.name}')\n",
    "    \n",
    "    \n",
    "class CarProxy:\n",
    "    def __init__(self, driver):\n",
    "        self.driver = driver\n",
    "        self._car = Car(driver)\n",
    "    \n",
    "    def drive(self):\n",
    "        if self.driver.age >= 16:\n",
    "            self._car.drive()\n",
    "        else:\n",
    "            print('Driver too young')\n",
    "    \n",
    "class Driver:\n",
    "    def __init__(self, name, age):\n",
    "        self.name = name\n",
    "        self.age = age\n",
    "        \n",
    "        \n",
    "\n",
    "driver = Driver('John', 12)\n",
    "car = CarProxy(driver)\n",
    "car.drive()"
   ]
  },
  {
   "cell_type": "markdown",
   "id": "337be7ee",
   "metadata": {},
   "source": [
    "### Virtual Proxy"
   ]
  },
  {
   "cell_type": "code",
   "execution_count": 8,
   "id": "8c4dd67f",
   "metadata": {},
   "outputs": [
    {
     "name": "stdout",
     "output_type": "stream",
     "text": [
      "About to draw image\n",
      "Loading image from facepalm.jpg\n",
      "Drawing image facepalm.jpg\n",
      "Done drawing image\n",
      "\n",
      "About to draw image\n",
      "Drawing image facepalm.jpg\n",
      "Done drawing image\n"
     ]
    }
   ],
   "source": [
    "class Bitmap:\n",
    "    def __init__(self, filename):\n",
    "        self.filename = filename\n",
    "        print(f'Loading image from {self.filename}')\n",
    "        \n",
    "    def draw(self):\n",
    "        print(f'Drawing image {self.filename}')\n",
    "        \n",
    "class LazyBitmap:\n",
    "    def __init__(self, filename):\n",
    "        self.filename = filename\n",
    "        self._bitmap = None\n",
    "        \n",
    "    def draw(self):\n",
    "        if not self._bitmap:\n",
    "            self._bitmap = Bitmap(self.filename)\n",
    "        self._bitmap.draw()\n",
    "        \n",
    "\n",
    "def draw_image(image):\n",
    "    print('About to draw image')\n",
    "    image.draw()\n",
    "    print('Done drawing image')\n",
    "    \n",
    "bmp = LazyBitmap('facepalm.jpg')\n",
    "draw_image(bmp)\n",
    "print()\n",
    "draw_image(bmp)"
   ]
  },
  {
   "cell_type": "code",
   "execution_count": null,
   "id": "42a346c2",
   "metadata": {},
   "outputs": [],
   "source": []
  }
 ],
 "metadata": {
  "kernelspec": {
   "display_name": "Python 3 (ipykernel)",
   "language": "python",
   "name": "python3"
  },
  "language_info": {
   "codemirror_mode": {
    "name": "ipython",
    "version": 3
   },
   "file_extension": ".py",
   "mimetype": "text/x-python",
   "name": "python",
   "nbconvert_exporter": "python",
   "pygments_lexer": "ipython3",
   "version": "3.11.4"
  }
 },
 "nbformat": 4,
 "nbformat_minor": 5
}
