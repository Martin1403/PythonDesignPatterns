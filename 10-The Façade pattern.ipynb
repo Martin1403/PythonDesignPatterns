{
 "cells": [
  {
   "cell_type": "markdown",
   "id": "6da665f6",
   "metadata": {},
   "source": [
    "## The Adapter pattern\n",
    "\n",
    "Adapters are used to allow two\n",
    "preexisting objects to work together, even if their interfaces are not compatible.\n",
    "\n",
    "![](uml/adapter_pattern.png)\n",
    "\n",
    "### An Adapter example\n"
   ]
  },
  {
   "cell_type": "code",
   "execution_count": 19,
   "id": "b4222378",
   "metadata": {},
   "outputs": [
    {
     "name": "stdout",
     "output_type": "stream",
     "text": [
      "    0.00 | INFO    Gila Flats 1959-08-20\n",
      "   19.00 | INFO    test block 15\n",
      " 2438.00 | ERROR   intrinsic field chamber door locked\n",
      " 2447.11 | INFO    generator power active\n",
      " 2469.33 | WARNING extra mass detected\n"
     ]
    }
   ],
   "source": [
    "from __future__ import annotations\n",
    "from typing import Optional   \n",
    "\n",
    "\n",
    "class TimeSince:\n",
    "    \"\"\"Expects time (HHMMSS) as six digits, no punctuation.\n",
    "    \n",
    "    >>> ts = TimeSince(\"110101\")\n",
    "    >>> ts.interval(\"110201\")\n",
    "    60.0\n",
    "    \"\"\"\n",
    "    \n",
    "    def parse_time(self, time: str) -> tuple[float, float, float]:\n",
    "        return (\n",
    "            float(time[0: 2]),\n",
    "            float(time[2: 4]),\n",
    "            float(time[4:]),\n",
    "        )\n",
    "    \n",
    "    def __init__(self, starting_time: str) -> None:\n",
    "        self.hr, self.min, self.sec = self.parse_time(starting_time)\n",
    "        self.start_seconds = ((self.hr * 60) + self.min) * 60 + self.sec\n",
    "        \n",
    "    def interval(self, log_time: str) -> float:\n",
    "        log_hr, log_min, log_sec = self.parse_time(log_time)\n",
    "        log_seconds = ((log_hr * 60 + log_min) * 60 + log_sec)\n",
    "        return log_seconds - self.start_seconds\n",
    "\n",
    "\n",
    "class IntervalAdapter:\n",
    "    def __init__(self) -> None:\n",
    "        self.ts: Optional[TimeSince] = None\n",
    "\n",
    "    def time_offset(self, start: str, now: str) -> float:\n",
    "        if self.ts is None:\n",
    "            self.ts = TimeSince(start)\n",
    "        else:\n",
    "            h_m_s = self.ts.parse_time(start)\n",
    "            if h_m_s != (self.ts.hr, self.ts.min, self.ts.sec):\n",
    "                self.ts = TimeSince(start)\n",
    "        return self.ts.interval(now)\n",
    "            \n",
    "\n",
    "class LogProcessor:\n",
    "    def __init__(self, log_entries: list[tuple[str, str, str]]) -> None:\n",
    "        self.log_entries = log_entries\n",
    "        self.time_convert = IntervalAdapter()\n",
    "        \n",
    "    def report(self) -> None:\n",
    "        first_time, first_sev, first_msg = self.log_entries[0]\n",
    "        for log_time, severity, message in self.log_entries:\n",
    "            if severity == \"Error\":\n",
    "                first_time = log_time\n",
    "            interval = self.time_convert.time_offset(first_time, log_time)\n",
    "            print(f\"{interval:8.2f} | {severity:7s} {message}\")\n",
    "\n",
    "    \n",
    "    \n",
    "data = [\n",
    "    (\"000123\", \"INFO\", \"Gila Flats 1959-08-20\"),\n",
    "    (\"000142\", \"INFO\", \"test block 15\"),\n",
    "    (\"004201\", \"ERROR\", \"intrinsic field chamber door locked\"),\n",
    "    (\"004210.11\", \"INFO\", \"generator power active\"),\n",
    "    (\"004232.33\", \"WARNING\", \"extra mass detected\")\n",
    "]\n",
    "\n",
    "\n",
    "lp = LogProcessor(data)\n",
    "lp.report()"
   ]
  },
  {
   "cell_type": "code",
   "execution_count": 20,
   "id": "1c770e03",
   "metadata": {
    "scrolled": false
   },
   "outputs": [
    {
     "name": "stderr",
     "output_type": "stream",
     "text": [
      "[NbConvertApp] Converting notebook 09-The Adapter pattern.ipynb to script\n",
      "[NbConvertApp] Writing 2822 bytes to test.py\n"
     ]
    },
    {
     "name": "stdout",
     "output_type": "stream",
     "text": [
      "\u001b[1m\u001b[32mSuccess: no issues found in 1 source file\u001b[m\n",
      "\n"
     ]
    }
   ],
   "source": [
    "if __name__ == '__main__':        \n",
    "    import doctest\n",
    "    import subprocess\n",
    "    name = \"09-The Adapter pattern\"\n",
    "    doctest.testmod(verbose=False)\n",
    "    subprocess.run(f'jupyter nbconvert --to script --output test \"{name}\"', shell=True)\n",
    "    std_out = subprocess.run('mypy --strict test.py', capture_output=True, shell=True).stdout\n",
    "    print(std_out.decode('ascii'))"
   ]
  },
  {
   "cell_type": "code",
   "execution_count": null,
   "id": "4014430e",
   "metadata": {},
   "outputs": [],
   "source": []
  }
 ],
 "metadata": {
  "kernelspec": {
   "display_name": "Python 3 (ipykernel)",
   "language": "python",
   "name": "python3"
  },
  "language_info": {
   "codemirror_mode": {
    "name": "ipython",
    "version": 3
   },
   "file_extension": ".py",
   "mimetype": "text/x-python",
   "name": "python",
   "nbconvert_exporter": "python",
   "pygments_lexer": "ipython3",
   "version": "3.11.4"
  }
 },
 "nbformat": 4,
 "nbformat_minor": 5
}
