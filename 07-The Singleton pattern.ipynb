{
 "cells": [
  {
   "cell_type": "markdown",
   "id": "ffc43617",
   "metadata": {},
   "source": [
    "## The Singleton pattern\n",
    "\n",
    "Singleton pattern is to allow exactly one instance of a\n",
    "certain object to exist.\n",
    "\n",
    "![](uml/singleton_pattern.png)"
   ]
  },
  {
   "cell_type": "code",
   "execution_count": 1,
   "id": "ce9654f0",
   "metadata": {},
   "outputs": [
    {
     "data": {
      "text/plain": [
       "True"
      ]
     },
     "execution_count": 1,
     "metadata": {},
     "output_type": "execute_result"
    }
   ],
   "source": [
    "from typing import Any, Hashable\n",
    "\n",
    "\n",
    "class OneOnly:\n",
    "    _singleton = None\n",
    "    def __new__(cls, *args: Any, **kwargs: dict[Hashable, Any]) -> \"OneOnly\":\n",
    "        if not cls._singleton:\n",
    "            cls._singleton = super().__new__(cls, *args, **kwargs)\n",
    "        return cls._singleton\n",
    "    \n",
    "o1 = OneOnly()\n",
    "o2 = OneOnly()\n",
    "\n",
    "id(o1) == id(o2)"
   ]
  },
  {
   "cell_type": "code",
   "execution_count": 4,
   "id": "1c770e03",
   "metadata": {
    "scrolled": true
   },
   "outputs": [
    {
     "name": "stderr",
     "output_type": "stream",
     "text": [
      "[NbConvertApp] Converting notebook 07-The Singleton pattern.ipynb to script\n",
      "[NbConvertApp] Writing 927 bytes to test.py\n"
     ]
    },
    {
     "name": "stdout",
     "output_type": "stream",
     "text": [
      "\u001b[1m\u001b[32mSuccess: no issues found in 1 source file\u001b[m\n",
      "\n"
     ]
    }
   ],
   "source": [
    "if __name__ == '__main__':        \n",
    "    import doctest\n",
    "    import subprocess\n",
    "    name = \"07-The Singleton pattern\"\n",
    "    doctest.testmod(verbose=False)\n",
    "    subprocess.run(f'jupyter nbconvert --to script --output test \"{name}\"', shell=True)\n",
    "    std_out = subprocess.run('mypy --strict test.py', capture_output=True, shell=True).stdout\n",
    "    print(std_out.decode('ascii'))"
   ]
  },
  {
   "cell_type": "code",
   "execution_count": null,
   "id": "4014430e",
   "metadata": {},
   "outputs": [],
   "source": []
  }
 ],
 "metadata": {
  "kernelspec": {
   "display_name": "Python 3 (ipykernel)",
   "language": "python",
   "name": "python3"
  },
  "language_info": {
   "codemirror_mode": {
    "name": "ipython",
    "version": 3
   },
   "file_extension": ".py",
   "mimetype": "text/x-python",
   "name": "python",
   "nbconvert_exporter": "python",
   "pygments_lexer": "ipython3",
   "version": "3.11.4"
  }
 },
 "nbformat": 4,
 "nbformat_minor": 5
}
