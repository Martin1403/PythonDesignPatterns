{
 "cells": [
  {
   "cell_type": "markdown",
   "id": "c8416667",
   "metadata": {},
   "source": [
    "## Builder pattern\n",
    "\n",
    "When piecewise object construction is complicated\n",
    "provide an API for doing it succinctly.\n",
    "\n",
    "### Builder pattern Facets\n",
    "Using two builders to build a Person."
   ]
  },
  {
   "cell_type": "code",
   "execution_count": 2,
   "id": "e1d0307e",
   "metadata": {},
   "outputs": [
    {
     "name": "stdout",
     "output_type": "stream",
     "text": [
      "Address: New York, 888-1112-222, Colden.\n",
      "Employment at Microsoft as a programmer earning $112000.\n"
     ]
    }
   ],
   "source": [
    "from typing import Optional\n",
    "import abc\n",
    "from numbers import Real\n",
    "\n",
    "class Person:\n",
    "    def __init__(self) -> None:\n",
    "        # Address\n",
    "        self.street_address: Optional[str] = None\n",
    "        self.postcode: Optional[str] = None\n",
    "        self.city: Optional[str] = None\n",
    "        # Employment\n",
    "        self.company_name: Optional[str] = None\n",
    "        self.position: Optional[str] = None\n",
    "        self.annual_income: Optional[float | int] = None\n",
    "            \n",
    "    def __str__(self) -> str:\n",
    "        return f\"Address: {self.street_address}, {self.postcode}, {self.city}.\"\\\n",
    "               f\"\\nEmployment at {self.company_name} as a {self.position} \"\\\n",
    "               f\"earning ${self.annual_income}.\" \n",
    "    \n",
    "    \n",
    "class PersonBuilder(abc.ABC):\n",
    "    def __init__(self, person: Person = Person()) -> None:\n",
    "        self.person: Person = person\n",
    "            \n",
    "    @property\n",
    "    def works(self) -> \"PersonJobBuilder\":\n",
    "        return PersonJobBuilder(self.person)\n",
    "        \n",
    "    @property\n",
    "    def lives(self) -> \"PersonAddressBuilder\":\n",
    "        return PersonAddressBuilder(self.person)\n",
    "        \n",
    "    def build(self) -> Person:\n",
    "        return self.person\n",
    "    \n",
    "    \n",
    "class PersonJobBuilder(PersonBuilder):\n",
    "    def __init__(self, person: Person) -> None:\n",
    "        super().__init__(person)\n",
    "        \n",
    "    def at(self, company_name: str) -> \"PersonJobBuilder\":\n",
    "        self.person.company_name = company_name\n",
    "        return self\n",
    "    \n",
    "    def as_a(self, position: str) -> \"PersonJobBuilder\":\n",
    "        self.person.position = position\n",
    "        return self\n",
    "    \n",
    "    def earnings(self, annual_income: float | int) -> \"PersonJobBuilder\":\n",
    "        self.person.annual_income = annual_income\n",
    "        return self\n",
    "    \n",
    "    \n",
    "class PersonAddressBuilder(PersonBuilder):\n",
    "    def __init__(self, person: Person) -> None:\n",
    "        super().__init__(person)\n",
    "        \n",
    "    def at(self, street_address: str) -> \"PersonAddressBuilder\":\n",
    "        self.person.street_address = street_address\n",
    "        return self\n",
    "    \n",
    "    def with_postcode(self, postcode: str) -> \"PersonAddressBuilder\":\n",
    "        self.person.postcode = postcode\n",
    "        return self\n",
    "    \n",
    "    def in_city(self, city: str) -> \"PersonAddressBuilder\":\n",
    "        self.person.city = city\n",
    "        return self\n",
    "\n",
    "    \n",
    "pb = PersonBuilder()\n",
    "person = pb\\\n",
    "    .works.at('Microsoft')\\\n",
    "         .as_a('programmer')\\\n",
    "         .earnings(112_000)\\\n",
    "    .lives.at('New York')\\\n",
    "          .with_postcode('888-1112-222')\\\n",
    "          .in_city('Colden')\\\n",
    "    .build()\n",
    "\n",
    "print(person)         "
   ]
  },
  {
   "cell_type": "code",
   "execution_count": 3,
   "id": "1c770e03",
   "metadata": {
    "scrolled": false
   },
   "outputs": [
    {
     "name": "stderr",
     "output_type": "stream",
     "text": [
      "[NbConvertApp] Converting notebook 13-Builder pattern Facets.ipynb to script\n",
      "[NbConvertApp] Writing 3091 bytes to test.py\n"
     ]
    },
    {
     "name": "stdout",
     "output_type": "stream",
     "text": [
      "\u001b[1m\u001b[32mSuccess: no issues found in 1 source file\u001b[m\n",
      "\n"
     ]
    }
   ],
   "source": [
    "if __name__ == '__main__':        \n",
    "    import doctest\n",
    "    import subprocess\n",
    "    name = \"13-Builder pattern Facets\"\n",
    "    doctest.testmod(verbose=False)\n",
    "    subprocess.run(f'jupyter nbconvert --to script --output test \"{name}\"', shell=True)\n",
    "    std_out = subprocess.run('mypy --strict test.py', capture_output=True, shell=True).stdout\n",
    "    print(std_out.decode('ascii'))"
   ]
  },
  {
   "cell_type": "code",
   "execution_count": null,
   "id": "4014430e",
   "metadata": {},
   "outputs": [],
   "source": []
  }
 ],
 "metadata": {
  "kernelspec": {
   "display_name": "Python 3 (ipykernel)",
   "language": "python",
   "name": "python3"
  },
  "language_info": {
   "codemirror_mode": {
    "name": "ipython",
    "version": 3
   },
   "file_extension": ".py",
   "mimetype": "text/x-python",
   "name": "python",
   "nbconvert_exporter": "python",
   "pygments_lexer": "ipython3",
   "version": "3.11.4"
  }
 },
 "nbformat": 4,
 "nbformat_minor": 5
}
