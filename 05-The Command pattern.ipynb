{
 "cells": [
  {
   "cell_type": "markdown",
   "id": "ad17cf6d",
   "metadata": {},
   "source": [
    "## The Command pattern\n",
    "\n",
    "A pattern that makes state changes in other objects.\n",
    "The Command pattern generally involves a hierarchy of classes that each do\n",
    "something. A Core class can create a command (or a sequence of commands) to carry\n",
    "out actions.\n",
    "![](uml/command_pattern.png)\n",
    "\n",
    "\n",
    "### A Command example\n",
    "\n"
   ]
  },
  {
   "cell_type": "code",
   "execution_count": 1,
   "id": "4debe7fb",
   "metadata": {
    "scrolled": true
   },
   "outputs": [
    {
     "name": "stdout",
     "output_type": "stream",
     "text": [
      "Dice(Roll(n=4, d=6), Keep(3))\n",
      "8\n",
      "\n",
      "Dice(Roll(n=3, d=7), Plus(11))\n",
      "18\n",
      "\n",
      "Dice(Roll(n=3, d=7), Minus(1))\n",
      "8\n",
      "\n",
      "Dice(Roll(n=3, d=7), Drop(2))\n",
      "6\n",
      "\n"
     ]
    }
   ],
   "source": [
    "from __future__ import annotations\n",
    "import abc\n",
    "import re\n",
    "import random\n",
    "from typing import cast, Optional, Union, Sequence\n",
    "\n",
    "random.seed(42)\n",
    "\n",
    "\n",
    "class Adjustment(abc.ABC):\n",
    "    def __init__(self, amount: int) -> None:\n",
    "        self.amount = amount\n",
    "        \n",
    "    @abc.abstractmethod\n",
    "    def apply(self, dice: \"Dice\") -> None:\n",
    "        ...\n",
    "        \n",
    "    def __repr__(self) -> str:\n",
    "        return f\"{type(self).__name__}({self.amount})\"   \n",
    "    \n",
    "    \n",
    "class Roll(Adjustment):\n",
    "    def __init__(self, n: int, d: int) -> None:\n",
    "        self.n = n\n",
    "        self.d = d\n",
    "    \n",
    "    def apply(self, dice: \"Dice\") -> None:\n",
    "        dice.dice = sorted(random.randint(1, self.d) for _ in range(self.n))\n",
    "        dice.modifier = 0\n",
    "        \n",
    "    def __repr__(self) -> str:\n",
    "        return f\"{type(self).__name__}(n={self.n}, d={self.d})\"\n",
    "    \n",
    "\n",
    "class Drop(Adjustment):\n",
    "    def apply(self, dice: \"Dice\") -> None:\n",
    "        dice.dice = dice.dice[self.amount :]\n",
    "    \n",
    "    \n",
    "class Keep(Adjustment):    \n",
    "    def apply(self, dice: \"Dice\") -> None:\n",
    "        dice.dice = dice.dice[: self.amount]\n",
    "    \n",
    "    \n",
    "class Plus(Adjustment):\n",
    "    def apply(self, dice: \"Dice\") -> None:\n",
    "        dice.modifier += self.amount\n",
    "    \n",
    "\n",
    "class Minus(Adjustment):\n",
    "    def apply(self, dice: \"Dice\") -> None:\n",
    "        dice.modifier -= self.amount\n",
    "    \n",
    "    \n",
    "class Dice:\n",
    "    \"\"\"\n",
    "    >>> import random\n",
    "    >>> random.seed(0)\n",
    "    >>> d = Dice(5, 6, Drop(2), Keep(2), Plus(100), Minus(50))\n",
    "    >>> r = d.roll()\n",
    "    >>> print(d.dice)\n",
    "    [4, 4]\n",
    "    >>> print(d.modifier)\n",
    "    50\n",
    "    \"\"\"\n",
    "    def __init__(self, n: int, d: int, *adj: Adjustment) -> None:\n",
    "        self.adjusments = [cast(Adjustment, Roll(n, d))] + list(adj)\n",
    "        self.dice: list[int]\n",
    "        self.modifier: int\n",
    "            \n",
    "    def roll(self) -> int:\n",
    "        for a in self.adjusments:\n",
    "            a.apply(self)\n",
    "        return sum(self.dice) + self.modifier\n",
    "    \n",
    "    @classmethod\n",
    "    def from_text(cls, dice_text: str) -> \"Dice\":\n",
    "        dice_pattern = re.compile(r\"(?P<n>\\d*)d(?P<d>\\d+)(?P<a>[dk+-]\\d+)*\")\n",
    "        adjustment_pattern = re.compile(r\"([dk+-])(\\d+)\")\n",
    "        adj_class: dict[str, type[Adjustment]] = {\n",
    "            \"d\": Drop,\n",
    "            \"k\": Keep,\n",
    "            \"+\": Plus,\n",
    "            \"-\": Minus,\n",
    "        }\n",
    "        if (dice_match := dice_pattern.match(dice_text)) is None:\n",
    "            raise ValueError(f\"Error in {dice_text!r}\")\n",
    "\n",
    "        n = int(dice_match.group(\"n\")) if dice_match.group(\"n\") else 1\n",
    "        d = int(dice_match.group(\"d\"))\n",
    "        adjustment_matches = adjustment_pattern.finditer(dice_match.group(\"a\") or \"\")\n",
    "        adjustments = [\n",
    "            adj_class[a.group(1)](int(a.group(2))) for a in adjustment_matches\n",
    "        ]\n",
    "        return cls(n, d, *adjustments)\n",
    "        \n",
    "    def __repr__(self) -> str:\n",
    "        return f\"{type(self).__name__}({', '.join(str(i) for i in self.adjusments)})\"\n",
    "\n",
    "    \n",
    "\n",
    "d1 = Dice.from_text(\"4d6k3\")\n",
    "print(repr(d1))\n",
    "print(d1.roll(), end='\\n\\n')\n",
    "\n",
    "d2 = Dice.from_text(\"3d7+11\")\n",
    "print(repr(d2))\n",
    "print(d2.roll(), end='\\n\\n')\n",
    "\n",
    "d3 = Dice.from_text(\"3d7-1\")\n",
    "print(repr(d3))\n",
    "print(d3.roll(), end='\\n\\n')\n",
    "\n",
    "d4 = Dice.from_text(\"3d7d2\")\n",
    "print(repr(d4))\n",
    "print(d4.roll(), end='\\n\\n')"
   ]
  },
  {
   "cell_type": "code",
   "execution_count": 2,
   "id": "1c770e03",
   "metadata": {
    "scrolled": true
   },
   "outputs": [
    {
     "name": "stderr",
     "output_type": "stream",
     "text": [
      "[NbConvertApp] Converting notebook 05-The Command pattern.ipynb to script\n",
      "[NbConvertApp] Writing 3874 bytes to test.py\n"
     ]
    },
    {
     "name": "stdout",
     "output_type": "stream",
     "text": [
      "\u001b[1m\u001b[32mSuccess: no issues found in 1 source file\u001b[m\n",
      "\n"
     ]
    }
   ],
   "source": [
    "if __name__ == '__main__':        \n",
    "    import doctest\n",
    "    import subprocess\n",
    "    name = \"05-The Command pattern\"\n",
    "    doctest.testmod(verbose=False)\n",
    "    subprocess.run(f'jupyter nbconvert --to script --output test \"{name}\"', shell=True)\n",
    "    std_out = subprocess.run('mypy --strict test.py', capture_output=True, shell=True).stdout\n",
    "    print(std_out.decode('ascii'))"
   ]
  },
  {
   "cell_type": "code",
   "execution_count": null,
   "id": "4014430e",
   "metadata": {},
   "outputs": [],
   "source": []
  }
 ],
 "metadata": {
  "kernelspec": {
   "display_name": "Python 3 (ipykernel)",
   "language": "python",
   "name": "python3"
  },
  "language_info": {
   "codemirror_mode": {
    "name": "ipython",
    "version": 3
   },
   "file_extension": ".py",
   "mimetype": "text/x-python",
   "name": "python",
   "nbconvert_exporter": "python",
   "pygments_lexer": "ipython3",
   "version": "3.11.4"
  }
 },
 "nbformat": 4,
 "nbformat_minor": 5
}
