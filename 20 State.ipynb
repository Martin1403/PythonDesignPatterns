{
 "cells": [
  {
   "cell_type": "markdown",
   "id": "093b6a71",
   "metadata": {},
   "source": [
    "## State\n",
    "\n",
    "A pattern in which the object's behavior is\n",
    "determined be its state. An object transitions\n",
    "from one state to another (something needs to trigger a transition).\n",
    "\n",
    "A fomralized construct which manages state and transitions is \n",
    "called a state machine."
   ]
  },
  {
   "cell_type": "markdown",
   "id": "0bede9db",
   "metadata": {},
   "source": [
    "### Classic Implementation"
   ]
  },
  {
   "cell_type": "code",
   "execution_count": 2,
   "id": "312dfb11",
   "metadata": {},
   "outputs": [
    {
     "name": "stdout",
     "output_type": "stream",
     "text": [
      "Light turned off\n",
      "\n",
      "Turning light on...\n",
      "Light turned on\n",
      "\n",
      "Turning light off...\n",
      "Light turned off\n",
      "\n",
      "Light is already off\n"
     ]
    }
   ],
   "source": [
    "import abc\n",
    "\n",
    "class Switch:\n",
    "    def __init__(self):\n",
    "        self.state = OffState()\n",
    "        \n",
    "    def on(self):\n",
    "        self.state.on(self)\n",
    "        \n",
    "    def off(self):\n",
    "        self.state.off(self)\n",
    "        \n",
    "    \n",
    "class State(abc.ABC):\n",
    "    def on(self, switch):\n",
    "        print(f\"Light is already on\")\n",
    "        \n",
    "    def off(self, switch):\n",
    "        print(f\"Light is already off\")\n",
    "        \n",
    "    \n",
    "class OnState(State):\n",
    "    def __init__(self):\n",
    "        print(\"Light turned on\")\n",
    "        \n",
    "    def off(self, switch):\n",
    "        print(\"Turning light off...\")\n",
    "        switch.state = OffState()\n",
    "        \n",
    "        \n",
    "class OffState(State):\n",
    "    def __init__(self):\n",
    "        print(\"Light turned off\")\n",
    "    \n",
    "    def on(self, switch):\n",
    "        print(\"Turning light on...\")\n",
    "        switch.state = OnState()\n",
    "    \n",
    "\n",
    "sw = Switch()\n",
    "print()\n",
    "sw.on()\n",
    "print()\n",
    "sw.off()\n",
    "print()\n",
    "sw.off()"
   ]
  },
  {
   "cell_type": "markdown",
   "id": "9d1f530d",
   "metadata": {},
   "source": [
    "### Handmade State Machine"
   ]
  },
  {
   "cell_type": "code",
   "execution_count": 5,
   "id": "04f8ced1",
   "metadata": {},
   "outputs": [
    {
     "name": "stdout",
     "output_type": "stream",
     "text": [
      "The phone is currently State.OFF_HOOK\n",
      "0: Trigger.CALL_DIALED\n",
      "Select a trigger: 0\n",
      "The phone is currently State.CONNECTING\n",
      "0: Trigger.HUNG_UP\n",
      "1: Trigger.CALL_CONNECTED\n",
      "Select a trigger: 1\n",
      "The phone is currently State.CONNECTED\n",
      "0: Trigger.LEFT_MESSAGE\n",
      "1: Trigger.HUNG_UP\n",
      "2: Trigger.PLACED_ON_HOLD\n",
      "Select a trigger: 2\n",
      "The phone is currently State.ON_HOLD\n",
      "0: Trigger.TAKEN_OFF_HOLD\n",
      "1: Trigger.HUNG_UP\n",
      "Select a trigger: 1\n",
      "We are done using the phone\n"
     ]
    }
   ],
   "source": [
    "from enum import Enum, auto\n",
    "\n",
    "class State(Enum):\n",
    "    OFF_HOOK = auto()\n",
    "    CONNECTING = auto()\n",
    "    CONNECTED = auto()\n",
    "    ON_HOLD = auto()\n",
    "    ON_HOOK = auto()\n",
    "    \n",
    "class Trigger(Enum):\n",
    "    CALL_DIALED = auto()\n",
    "    HUNG_UP = auto()\n",
    "    CALL_CONNECTED = auto()\n",
    "    PLACED_ON_HOLD = auto()\n",
    "    TAKEN_OFF_HOLD = auto()\n",
    "    LEFT_MESSAGE = auto()\n",
    "    \n",
    "\n",
    "rules = {\n",
    "    State.OFF_HOOK: [\n",
    "        (Trigger.CALL_DIALED, State.CONNECTING)\n",
    "    ],\n",
    "    State.CONNECTING: [\n",
    "        (Trigger.HUNG_UP, State.ON_HOOK),\n",
    "        (Trigger.CALL_CONNECTED, State.CONNECTED)\n",
    "    ],\n",
    "    State.CONNECTED: [\n",
    "        (Trigger.LEFT_MESSAGE, State.ON_HOOK),\n",
    "        (Trigger.HUNG_UP, State.ON_HOOK),\n",
    "        (Trigger.PLACED_ON_HOLD, State.ON_HOLD)\n",
    "    ],\n",
    "    State.ON_HOLD: [\n",
    "        (Trigger.TAKEN_OFF_HOLD, State.CONNECTED),\n",
    "        (Trigger.HUNG_UP, State.ON_HOOK)\n",
    "    ]\n",
    "}\n",
    "\n",
    "state = State.OFF_HOOK\n",
    "exit_state = State.ON_HOOK\n",
    "\n",
    "while state != exit_state:\n",
    "    print(f\"The phone is currently {state}\")\n",
    "    \n",
    "    for i in range(len(rules[state])):\n",
    "        t = rules[state][i][0]\n",
    "        print(f\"{i}: {t}\")\n",
    "        \n",
    "    idx = int(input(\"Select a trigger: \"))\n",
    "    s = rules[state][idx][1]\n",
    "    state = s\n",
    "    \n",
    "print(\"We are done using the phone\")"
   ]
  },
  {
   "cell_type": "markdown",
   "id": "b79c6b97",
   "metadata": {},
   "source": [
    "### Switch-Based State Machine"
   ]
  },
  {
   "cell_type": "code",
   "execution_count": 6,
   "id": "619012f0",
   "metadata": {},
   "outputs": [
    {
     "name": "stdout",
     "output_type": "stream",
     "text": [
      "1\n",
      "12\n",
      "123\n",
      "1235\n",
      "\n",
      "FAILED\n",
      "1\n",
      "12\n",
      "123\n",
      "1234\n",
      "\n",
      "UNLOCKED\n"
     ]
    }
   ],
   "source": [
    "from enum import Enum\n",
    "\n",
    "class State(Enum):\n",
    "    LOCKED = auto()\n",
    "    FAILED = auto()\n",
    "    UNLOCKED = auto()\n",
    "    \n",
    "code = '1234'\n",
    "state = State.LOCKED\n",
    "entry = \"\"\n",
    "\n",
    "while True:\n",
    "    if state == State.LOCKED:\n",
    "        entry += input(entry)\n",
    "        \n",
    "        if entry == code:\n",
    "            state = State.UNLOCKED\n",
    "            \n",
    "        if not code.startswith(entry):\n",
    "            state = State.FAILED\n",
    "    \n",
    "    elif state == State.FAILED:\n",
    "        print(\"\\nFAILED\")\n",
    "        entry = \"\"\n",
    "        state = State.LOCKED\n",
    "        \n",
    "    elif state == State.UNLOCKED:\n",
    "        print(\"\\nUNLOCKED\")\n",
    "        break"
   ]
  },
  {
   "cell_type": "code",
   "execution_count": null,
   "id": "4d595a90",
   "metadata": {},
   "outputs": [],
   "source": []
  }
 ],
 "metadata": {
  "kernelspec": {
   "display_name": "Python 3 (ipykernel)",
   "language": "python",
   "name": "python3"
  },
  "language_info": {
   "codemirror_mode": {
    "name": "ipython",
    "version": 3
   },
   "file_extension": ".py",
   "mimetype": "text/x-python",
   "name": "python",
   "nbconvert_exporter": "python",
   "pygments_lexer": "ipython3",
   "version": "3.11.4"
  }
 },
 "nbformat": 4,
 "nbformat_minor": 5
}
