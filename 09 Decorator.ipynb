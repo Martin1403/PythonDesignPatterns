{
 "cells": [
  {
   "cell_type": "markdown",
   "id": "ffe25e45",
   "metadata": {},
   "source": [
    "## Decorator\n",
    "\n",
    "Facilitates the addition of behaviors to individual objects\n",
    "without inheriting from them."
   ]
  },
  {
   "cell_type": "markdown",
   "id": "5a674a8f",
   "metadata": {},
   "source": [
    "### Python Functional Decorators"
   ]
  },
  {
   "cell_type": "code",
   "execution_count": 4,
   "id": "1937da93",
   "metadata": {},
   "outputs": [
    {
     "name": "stdout",
     "output_type": "stream",
     "text": [
      "Starting op\n",
      "We are done\n",
      "some_op took 1003ms\n"
     ]
    },
    {
     "data": {
      "text/plain": [
       "123"
      ]
     },
     "execution_count": 4,
     "metadata": {},
     "output_type": "execute_result"
    }
   ],
   "source": [
    "import time\n",
    "\n",
    "def time_it(func):\n",
    "    def wrapper():\n",
    "        start = time.time()\n",
    "        result = func()\n",
    "        end = time.time()\n",
    "        print(f'{func.__name__} took {int((end-start)*1000)}ms')\n",
    "        return result\n",
    "    return wrapper\n",
    "\n",
    "@time_it\n",
    "def some_op():\n",
    "    print('Starting op')\n",
    "    time.sleep(1)\n",
    "    print('We are done')\n",
    "    return 123\n",
    "\n",
    "# some_op = time_it(some_op)\n",
    "\n",
    "some_op()"
   ]
  },
  {
   "cell_type": "markdown",
   "id": "847e9c2c",
   "metadata": {},
   "source": [
    "### Classic Decorator"
   ]
  },
  {
   "cell_type": "code",
   "execution_count": 11,
   "id": "63b2bcf3",
   "metadata": {},
   "outputs": [
    {
     "name": "stdout",
     "output_type": "stream",
     "text": [
      "A circle of radius 2\n",
      "A circle of radius 2 has the color red\n",
      "A circle of radius 2 has the color red has 50.0% transparency\n"
     ]
    }
   ],
   "source": [
    "from abc import ABC\n",
    "\n",
    "class Shape(ABC):\n",
    "    def __str__(self):\n",
    "        return ''\n",
    "    \n",
    "class Circle(Shape):\n",
    "    def __init__(self, radius):\n",
    "        self.radius = radius\n",
    "        \n",
    "    def resize(self, factor):\n",
    "        self.radius *= factor\n",
    "        \n",
    "    def __str__(self):\n",
    "        return f'A circle of radius {self.radius}'\n",
    "    \n",
    "class Square(Shape):\n",
    "    def __init__(self, side):\n",
    "        self.side = side\n",
    "        \n",
    "    def __str__(self):\n",
    "        return f'A square with side {self.side}'\n",
    "    \n",
    "class ColoredShape(Shape):\n",
    "    def __init__(self, shape, color):\n",
    "        if isinstance(shape, ColoredShape):\n",
    "            raise Exception('Cannot apply same decorator twice.')\n",
    "        self.shape = shape\n",
    "        self.color = color\n",
    "        \n",
    "    def __str__(self):\n",
    "        return f'{self.shape} has the color {self.color}'\n",
    "    \n",
    "class TransparentShape(Shape):\n",
    "    def __init__(self, shape, transparency):\n",
    "        self.shape = shape\n",
    "        self.transparency = transparency\n",
    "        \n",
    "    def __str__(self):\n",
    "        return f'{self.shape} has {self.transparency*100.0}% transparency'\n",
    "    \n",
    "    \n",
    "circle = Circle(2)\n",
    "print(circle)\n",
    "\n",
    "red_circle = ColoredShape(circle, 'red')\n",
    "print(red_circle)\n",
    "\n",
    "red_half_transparent_circle = TransparentShape(red_circle, 0.5)\n",
    "print(red_half_transparent_circle)\n"
   ]
  },
  {
   "cell_type": "markdown",
   "id": "1f5588ee",
   "metadata": {},
   "source": [
    "### Dynamic Decorator"
   ]
  },
  {
   "cell_type": "code",
   "execution_count": 19,
   "id": "9eb0e36b",
   "metadata": {},
   "outputs": [
    {
     "name": "stdout",
     "output_type": "stream",
     "text": [
      "wrote 2 lines\n"
     ]
    }
   ],
   "source": [
    "class FileWithLogging:\n",
    "    def __init__(self, file):\n",
    "        self.file = file\n",
    "        \n",
    "    def writelines(self, strings):\n",
    "        self.file.writelines(strings)\n",
    "        print(f'wrote {len(strings)} lines')\n",
    "        \n",
    "    def __iter__(self):\n",
    "        return self.file.__iter__()\n",
    "    \n",
    "    def __next__(self):\n",
    "        return self.file.__next__()\n",
    "        \n",
    "    def __getattr__(self, item): ## Return built in function\n",
    "        return getattr(self.__dict__['file'], item)\n",
    "    \n",
    "    def __setattr__(self, key, value):\n",
    "        if key == 'file':\n",
    "            self.__dict__[key] = value\n",
    "        else:\n",
    "            setattr(self.__dict__['file'], key)\n",
    "            \n",
    "    def __delattr__(self, item):\n",
    "        delattr(self.__dict__['file'], item)\n",
    "        \n",
    "        \n",
    "file = FileWithLogging(open('hello.txt', 'w'))\n",
    "file.writelines(['hello', 'world'])\n",
    "file.write('testing') ## return with getattr from fileobject\n",
    "file.close()"
   ]
  },
  {
   "cell_type": "code",
   "execution_count": null,
   "id": "38628739",
   "metadata": {},
   "outputs": [],
   "source": []
  }
 ],
 "metadata": {
  "kernelspec": {
   "display_name": "Python 3 (ipykernel)",
   "language": "python",
   "name": "python3"
  },
  "language_info": {
   "codemirror_mode": {
    "name": "ipython",
    "version": 3
   },
   "file_extension": ".py",
   "mimetype": "text/x-python",
   "name": "python",
   "nbconvert_exporter": "python",
   "pygments_lexer": "ipython3",
   "version": "3.11.4"
  }
 },
 "nbformat": 4,
 "nbformat_minor": 5
}
