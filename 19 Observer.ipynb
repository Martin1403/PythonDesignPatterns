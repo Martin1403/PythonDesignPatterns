{
 "cells": [
  {
   "cell_type": "markdown",
   "id": "f2d584ae",
   "metadata": {},
   "source": [
    "## Observer\n",
    "\n",
    "An observer is an object that wishes to be informed about events happening in the system. The entity generating the events is an observable."
   ]
  },
  {
   "cell_type": "code",
   "execution_count": 18,
   "id": "4950aba2",
   "metadata": {},
   "outputs": [
    {
     "name": "stdout",
     "output_type": "stream",
     "text": [
      "John wishes a good luck!\n",
      "John needs a doctor at 123 London Road\n",
      "\n",
      "John wishes a good luck!\n"
     ]
    }
   ],
   "source": [
    "class Event(list):\n",
    "    def __call__(self, *args, **kwargs):\n",
    "        for item in self:\n",
    "            item(*args, **kwargs)\n",
    "\n",
    "class Person:\n",
    "    def __init__(self, name, address):\n",
    "        self.name = name\n",
    "        self.address = address\n",
    "        self.falls_ill = Event()\n",
    "        \n",
    "    def catch_a_cold(self):\n",
    "        self.falls_ill(self.name, self.address)\n",
    "\n",
    "def call_doctor(name, address):\n",
    "    print(f\"{name} needs a doctor at {address}\")\n",
    "        \n",
    "\n",
    "p = Person('John', '123 London Road')\n",
    "\n",
    "p.falls_ill.append(lambda *args: print(f\"{args[0]} wishes a good luck!\"))\n",
    "p.falls_ill.append(call_doctor)\n",
    "p.catch_a_cold()\n",
    "print()\n",
    "p.falls_ill.remove(call_doctor)\n",
    "p.catch_a_cold()"
   ]
  },
  {
   "cell_type": "markdown",
   "id": "2aea9e36",
   "metadata": {},
   "source": [
    "### Property Observers"
   ]
  },
  {
   "cell_type": "code",
   "execution_count": 4,
   "id": "b3a6ecaa",
   "metadata": {},
   "outputs": [
    {
     "name": "stdout",
     "output_type": "stream",
     "text": [
      "Setting age to 14\n",
      "Sorry, you still cannot drive\n",
      "\n",
      "Setting age to 15\n",
      "Sorry, you still cannot drive\n",
      "\n",
      "Setting age to 16\n",
      "Okay, you can drive now\n",
      "\n",
      "Setting age to 17\n",
      "\n",
      "Setting age to 18\n",
      "\n",
      "Setting age to 19\n",
      "\n"
     ]
    }
   ],
   "source": [
    "class Event(list):\n",
    "    def __call__(self, *args, **kwargs):\n",
    "        for item in self:\n",
    "            item(*args, **kwargs)\n",
    "        \n",
    "        \n",
    "class PropertyObservable:\n",
    "    def __init__(self):\n",
    "        self.property_changed = Event()\n",
    "        \n",
    "        \n",
    "class Person(PropertyObservable):\n",
    "    def __init__(self, age=0):\n",
    "        super().__init__()\n",
    "        self._age = age\n",
    "    \n",
    "    @property\n",
    "    def age(self):\n",
    "        return self._age\n",
    "    \n",
    "    @age.setter\n",
    "    def age(self, value):  # When setting age -> calling Event __call__\n",
    "        if self._age == value:\n",
    "            return\n",
    "        self._age = value\n",
    "        self.property_changed('age', value)\n",
    "        \n",
    "        \n",
    "class TrafficAuthority:\n",
    "    def __init__(self, person):\n",
    "        self.person = person\n",
    "        person.property_changed.append(  # Appended person_changed\n",
    "            self.person_changed\n",
    "        )\n",
    "    \n",
    "    def person_changed(self, name, value):\n",
    "        if name == \"age\":\n",
    "            if value < 16:\n",
    "                print(\"Sorry, you still cannot drive\")\n",
    "            else:\n",
    "                print(\"Okay, you can drive now\")\n",
    "                self.person.property_changed.remove(\n",
    "                    self.person_changed\n",
    "                )\n",
    "\n",
    "p = Person()\n",
    "ta = TrafficAuthority(p)\n",
    "for age in range(14, 20):\n",
    "    print(f\"Setting age to {age}\")\n",
    "    p.age = age\n",
    "    print()"
   ]
  },
  {
   "cell_type": "markdown",
   "id": "df99a91b",
   "metadata": {},
   "source": [
    "### Property Dependencies"
   ]
  },
  {
   "cell_type": "code",
   "execution_count": 7,
   "id": "f6e3a2b5",
   "metadata": {},
   "outputs": [
    {
     "name": "stdout",
     "output_type": "stream",
     "text": [
      "Changing age to 16\n",
      "Changing age to 17\n",
      "Changing age to 18\n",
      "Voting ability changed to True\n",
      "Changing age to 19\n",
      "Changing age to 20\n"
     ]
    }
   ],
   "source": [
    "class Event(list):\n",
    "    def __call__(self, *args, **kwargs):\n",
    "        for item in self:\n",
    "            item(*args, **kwargs)\n",
    "        \n",
    "        \n",
    "class PropertyObservable:\n",
    "    def __init__(self):\n",
    "        self.property_changed = Event()\n",
    "        \n",
    "        \n",
    "class Person(PropertyObservable):\n",
    "    def __init__(self, age=0):\n",
    "        super().__init__()\n",
    "        self._age = age\n",
    "    \n",
    "    @property\n",
    "    def can_vote(self):\n",
    "        return self._age >= 18\n",
    "    \n",
    "    @property\n",
    "    def age(self):\n",
    "        return self._age\n",
    "    \n",
    "    @age.setter\n",
    "    def age(self, value):  # When setting age -> calling Event __call__\n",
    "        if self._age == value:\n",
    "            return\n",
    "        \n",
    "        old_can_vote = self.can_vote\n",
    "        \n",
    "        self._age = value\n",
    "        self.property_changed('age', value)\n",
    "        \n",
    "        if old_can_vote != self.can_vote:\n",
    "            self.property_changed('can_vote', self.can_vote)\n",
    "        \n",
    "        \n",
    "class TrafficAuthority:\n",
    "    def __init__(self, person):\n",
    "        self.person = person\n",
    "        person.property_changed.append(  # Appended person_changed\n",
    "            self.person_changed\n",
    "        )\n",
    "    \n",
    "    def person_changed(self, name, value):\n",
    "        if name == \"age\":\n",
    "            if value < 16:\n",
    "                print(\"Sorry, you still cannot drive\")\n",
    "            else:\n",
    "                print(\"Okay, you can drive now\")\n",
    "                self.person.property_changed.remove(\n",
    "                    self.person_changed\n",
    "                )\n",
    "                \n",
    "                \n",
    "def person_changed(name, value):\n",
    "    if name == \"can_vote\":\n",
    "        print(f\"Voting ability changed to {value}\")\n",
    "                \n",
    "p = Person()\n",
    "p.property_changed.append(\n",
    "    person_changed\n",
    ")\n",
    "\n",
    "for age in range(16, 21):\n",
    "    print(f\"Changing age to {age}\")\n",
    "    p.age = age"
   ]
  },
  {
   "cell_type": "code",
   "execution_count": null,
   "id": "ac602c6a",
   "metadata": {},
   "outputs": [],
   "source": []
  }
 ],
 "metadata": {
  "kernelspec": {
   "display_name": "Python 3 (ipykernel)",
   "language": "python",
   "name": "python3"
  },
  "language_info": {
   "codemirror_mode": {
    "name": "ipython",
    "version": 3
   },
   "file_extension": ".py",
   "mimetype": "text/x-python",
   "name": "python",
   "nbconvert_exporter": "python",
   "pygments_lexer": "ipython3",
   "version": "3.11.4"
  }
 },
 "nbformat": 4,
 "nbformat_minor": 5
}
